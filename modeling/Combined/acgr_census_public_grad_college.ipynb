{
 "cells": [
  {
   "cell_type": "code",
   "execution_count": null,
   "id": "78c38557",
   "metadata": {},
   "outputs": [],
   "source": [
    "import sqlite3\n",
    "from pathlib import Path\n",
    "\n",
    "__file__ = %pwd\n",
    "DATA = Path(__file__).parent.parent / \"data\"\n",
    "PRIORITIES = DATA / \"Priorities\"\n",
    "DATABASE = DATA / \"databases\" / \"exploration.db\"\n",
    "\n",
    "import sys\n",
    "sys.path.append(str(DATA.parent))  # Add the parent directory of 'modeling' to the Python path\n",
    "\n",
    "con = sqlite3.connect(DATABASE)\n",
    "cur = con.cursor()"
   ]
  },
  {
   "cell_type": "code",
   "execution_count": null,
   "id": "76d82269",
   "metadata": {},
   "outputs": [],
   "source": [
    "import pandas as pd\n",
    "import numpy as np\n",
    "\n",
    "\n",
    "def filter_academic_year(df, year):\n",
    "    \"\"\"Filter dataframe by academic year and drop AcademicYear column\"\"\"\n",
    "    filtered_df = df[df[\"AcademicYear\"] == year].copy()\n",
    "    return filtered_df.drop(columns=[\"AcademicYear\"])\n",
    "\n",
    "\n",
    "def standarized_columns(acgr_df, mapping):\n",
    "    \"\"\"Rename ACGR columns to match Census Day naming convention\"\"\"\n",
    "    renamed_df = acgr_df.copy()\n",
    "    new_columns = {}\n",
    "\n",
    "    for col in acgr_df.columns:\n",
    "        parts = col.split(\".\")\n",
    "        if len(parts) == 2 and parts[1] in mapping:\n",
    "            new_col = f\"{parts[0]}.{mapping[parts[1]]}\"\n",
    "            new_columns[col] = new_col\n",
    "\n",
    "    return renamed_df.rename(columns=new_columns)\n",
    "\n",
    "\n",
    "census_to_acgr_mapping = {\n",
    "    # Race/Ethnicity\n",
    "    \"RE_B\": \"RB\",  # African American\n",
    "    \"RE_I\": \"RI\",  # American Indian or Alaska Native\n",
    "    \"RE_A\": \"RA\",  # Asian\n",
    "    \"RE_F\": \"RF\",  # Filipino\n",
    "    \"RE_H\": \"RH\",  # Hispanic or Latino\n",
    "    \"RE_D\": \"RD\",  # Not Reported\n",
    "    \"RE_P\": \"RP\",  # Pacific Islander\n",
    "    \"RE_T\": \"RT\",  # Two or More Races\n",
    "    \"RE_W\": \"RW\",  # White\n",
    "    # Gender\n",
    "    \"GN_M\": \"GM\",  # Male\n",
    "    \"GN_F\": \"GF\",  # Female\n",
    "    \"GN_X\": \"GX\",  # Non-Binary\n",
    "    \"GN_Z\": \"GZ\",  # Missing Gender\n",
    "    # Student Groups\n",
    "    \"SG_EL\": \"SE\",  # English Learners\n",
    "    \"SG_DS\": \"SD\",  # Students with Disabilities\n",
    "    \"SG_SD\": \"SS\",  # Socioeconomically Disadvantaged\n",
    "    \"SG_MG\": \"SM\",  # Migrant\n",
    "    \"SG_FS\": \"SF\",  # Foster\n",
    "    \"SG_HM\": \"SH\",  # Homeless\n",
    "    # Total\n",
    "    \"TA\": \"TA\",  # Total\n",
    "}"
   ]
  },
  {
   "cell_type": "code",
   "execution_count": null,
   "id": "e7c3b1d8",
   "metadata": {},
   "outputs": [],
   "source": [
    "from functools import reduce\n",
    "\n",
    "# Get tables\n",
    "census_day = pd.read_sql_query(\"SELECT * FROM CensusDayWide\", con)\n",
    "acgr = pd.read_sql_query(\"SELECT * FROM ACGRWide\", con)\n",
    "public_schools = pd.read_sql_query(\"SELECT * FROM PublicSchools\", con)\n",
    "\n",
    "pattern = \"Virtual|Magnet|YearRound|Multilingual\"\n",
    "public_schools = public_schools.filter(regex=pattern)\n",
    "census_day_standardized = standarized_columns(census_day, census_to_acgr_mapping)\n",
    "\n",
    "\n",
    "def add_suffix_except(df, suffix, exclude=(\"SchoolCode\", \"AcademicYear\")):\n",
    "    return df.rename(\n",
    "        columns={col: f\"{col}{suffix}\" for col in df.columns if col not in exclude}\n",
    "    )\n",
    "\n",
    "\n",
    "# Reduce columns\n",
    "census_day_reduced = census_day.drop(\n",
    "    columns=[\"AggregateLevel\", \"DistrictCode\", \"CountyCode\"], errors=\"ignore\"\n",
    ")\n",
    "acgr_reduced = acgr.drop(columns=[\"DistrictCode\", \"CountyCode\"], errors=\"ignore\")\n",
    "\n",
    "# Merge DataFrames\n",
    "dfs = [\n",
    "    census_day_reduced,\n",
    "    acgr_reduced,\n",
    "]\n",
    "\n",
    "merged = reduce(\n",
    "    lambda left, right: pd.merge(left, right, on=\"SchoolCode\", how=\"inner\"), dfs\n",
    ")\n",
    "merged"
   ]
  },
  {
   "cell_type": "code",
   "execution_count": null,
   "id": "a79db0a1",
   "metadata": {},
   "outputs": [],
   "source": [
    "for col in merged.columns:\n",
    "    if any(substr in col for substr in [\"Rate\", \"Percent\", \"ENR\", \"GR_\"]):\n",
    "        merged[col] = pd.to_numeric(merged[col], errors=\"coerce\")\n",
    "\n",
    "academic_years = [\n",
    "    \"2017-18\",\n",
    "    \"2018-19\",\n",
    "    \"2019-20\",\n",
    "    \"2020-21\",\n",
    "    \"2021-22\",\n",
    "    \"2022-23\",\n",
    "    \"2023-24\",\n",
    "]\n",
    "\n",
    "columns_to_drop = [\n",
    "    col\n",
    "    for col in merged.columns\n",
    "    if col.startswith(\"RegHSDiploma\")\n",
    "    or col.startswith(\"Dropout\")\n",
    "    or col.startswith(\"UniReqs\")\n",
    "    or col.startswith(\"Other\")\n",
    "    or col.startswith(\"GR_\")\n",
    "]\n",
    "\n",
    "year_df_mapping = {year: filter_academic_year(merged, year) for year in academic_years}"
   ]
  },
  {
   "cell_type": "markdown",
   "id": "0c5b1a18",
   "metadata": {},
   "source": [
    "## XGBoost\n"
   ]
  },
  {
   "cell_type": "markdown",
   "id": "650aa989",
   "metadata": {},
   "source": [
    "### Grad Rate\n"
   ]
  },
  {
   "cell_type": "code",
   "execution_count": null,
   "id": "31f5c2cc",
   "metadata": {},
   "outputs": [],
   "source": [
    "from modeling.utils.xgboost import cross_validate_xgboost, plot_cv_feature_importance\n",
    "from modeling.utils.xgboost import (\n",
    "    plot_top_k_features,\n",
    "    plot_feature_avg_variance,\n",
    "    plot_feature_time_series,\n",
    ")\n",
    "\n",
    "cv_xgb_models = {}\n",
    "\n",
    "target_column = \"RegHSDiplomaRate.TA\"\n",
    "\n",
    "for year, year_df in year_df_mapping.items():\n",
    "\n",
    "    cv_result = cross_validate_xgboost(\n",
    "        df=year_df,\n",
    "        target_column=target_column,\n",
    "        columns_to_drop=[target_column] + columns_to_drop,\n",
    "        n_splits=5,\n",
    "        print_results=True,\n",
    "        n_jobs=-1,\n",
    "    )\n",
    "\n",
    "    cv_xgb_models[year] = cv_result"
   ]
  },
  {
   "cell_type": "code",
   "execution_count": null,
   "id": "eb028624",
   "metadata": {},
   "outputs": [],
   "source": [
    "top_features = plot_cv_feature_importance(cv_xgb_models, top_n=5)\n",
    "plot_top_k_features(cv_xgb_models, \"XGBoost\", \"gain\", target_column, k=5)\n",
    "plot_feature_avg_variance(cv_xgb_models, \"XGBoost\", \"gain\", target_column)\n",
    "plot_feature_time_series(cv_xgb_models, \"XGBoost\", \"gain\", target_column, top_features)"
   ]
  },
  {
   "cell_type": "markdown",
   "id": "57acc0bc",
   "metadata": {},
   "source": [
    "### College Readiness\n"
   ]
  },
  {
   "cell_type": "code",
   "execution_count": null,
   "id": "6229bdb1",
   "metadata": {},
   "outputs": [],
   "source": [
    "from modeling.utils.xgboost import cross_validate_xgboost, plot_cv_feature_importance\n",
    "from modeling.utils.xgboost import (\n",
    "    plot_top_k_features,\n",
    "    plot_feature_avg_variance,\n",
    "    plot_feature_time_series,\n",
    ")\n",
    "\n",
    "cv_xgb_models = {}\n",
    "\n",
    "target_column = \"UniReqsPercent.TA\"\n",
    "\n",
    "for year, year_df in year_df_mapping.items():\n",
    "\n",
    "    cv_result = cross_validate_xgboost(\n",
    "        df=year_df,\n",
    "        target_column=target_column,\n",
    "        columns_to_drop=[target_column] + columns_to_drop,\n",
    "        n_splits=5,\n",
    "        print_results=True,\n",
    "        n_jobs=-1,\n",
    "    )\n",
    "\n",
    "    cv_xgb_models[year] = cv_result"
   ]
  },
  {
   "cell_type": "code",
   "execution_count": null,
   "id": "adecdb37",
   "metadata": {},
   "outputs": [],
   "source": [
    "top_features = plot_cv_feature_importance(cv_xgb_models, top_n=5)\n",
    "plot_top_k_features(cv_xgb_models, \"XGBoost\", \"gain\", target_column, k=5)\n",
    "plot_feature_avg_variance(cv_xgb_models, \"XGBoost\", \"gain\", target_column)\n",
    "plot_feature_time_series(cv_xgb_models, \"XGBoost\", \"gain\", target_column, top_features)"
   ]
  },
  {
   "cell_type": "markdown",
   "id": "59ade91a",
   "metadata": {},
   "source": [
    "## Random Forest\n"
   ]
  },
  {
   "cell_type": "markdown",
   "id": "c495ec4e",
   "metadata": {},
   "source": [
    "### Grad Rate\n"
   ]
  },
  {
   "cell_type": "code",
   "execution_count": null,
   "id": "492c5b0b",
   "metadata": {},
   "outputs": [],
   "source": [
    "from modeling.utils.randomforest import (\n",
    "    cross_validate_random_forest,\n",
    "    plot_cv_feature_importance_rf,\n",
    "    plot_top_k_features_rf,\n",
    "    plot_feature_avg_variance_rf,\n",
    "    plot_feature_time_series_rf,\n",
    ")\n",
    "\n",
    "cv_models = {}\n",
    "\n",
    "target_variable = \"RegHSDiplomaRate.TA\"\n",
    "years = list(year_df_mapping.keys())\n",
    "\n",
    "for year in years:\n",
    "    df = year_df_mapping[year]\n",
    "\n",
    "    cv_result = cross_validate_random_forest(\n",
    "        df=df,\n",
    "        target_column=target_variable,\n",
    "        columns_to_drop=columns_to_drop,\n",
    "        n_splits=5,\n",
    "        print_results=True,\n",
    "        n_jobs=-1,\n",
    "    )\n",
    "\n",
    "    cv_models[year] = cv_result"
   ]
  },
  {
   "cell_type": "code",
   "execution_count": null,
   "id": "ea71fc3f",
   "metadata": {},
   "outputs": [],
   "source": [
    "all_top_features = plot_cv_feature_importance_rf(cv_models, top_n=5)\n",
    "\n",
    "plot_top_k_features_rf(cv_models, target_variable=target_variable, k=5)\n",
    "plot_feature_avg_variance_rf(\n",
    "    cv_models, target_variable=target_variable, top_k_features=all_top_features\n",
    ")\n",
    "plot_feature_time_series_rf(\n",
    "    cv_models, target_variable=target_variable, top_k_features=all_top_features\n",
    ")"
   ]
  },
  {
   "cell_type": "markdown",
   "id": "17f42be6",
   "metadata": {},
   "source": [
    "### College Readiness\n"
   ]
  },
  {
   "cell_type": "code",
   "execution_count": null,
   "id": "7817b8c3",
   "metadata": {},
   "outputs": [],
   "source": [
    "from modeling.utils.randomforest import (\n",
    "    train_random_forest_model,\n",
    "    plot_cv_feature_importance_rf,\n",
    "    plot_top_k_features_rf,\n",
    "    plot_feature_avg_variance_rf,\n",
    "    plot_feature_time_series_rf,\n",
    ")\n",
    "\n",
    "cv_models = {}\n",
    "\n",
    "target_variable = \"UniReqsPercent.TA\"\n",
    "years = list(year_df_mapping.keys())\n",
    "\n",
    "for year in years:\n",
    "    df = year_df_mapping[year]\n",
    "\n",
    "    cv_result = train_random_forest_model(\n",
    "        df=df,\n",
    "        target_column=target_variable,\n",
    "        columns_to_drop=columns_to_drop,\n",
    "        n_splits=5,\n",
    "        print_results=True,\n",
    "        n_jobs=-1,\n",
    "    )\n",
    "\n",
    "    cv_models[year] = cv_result"
   ]
  },
  {
   "cell_type": "code",
   "execution_count": null,
   "id": "eec164b7",
   "metadata": {},
   "outputs": [],
   "source": [
    "all_top_features = plot_cv_feature_importance_rf(cv_models, top_n=5)\n",
    "\n",
    "plot_top_k_features_rf(cv_models, target_variable=target_variable, k=5)\n",
    "plot_feature_avg_variance_rf(\n",
    "    cv_models, target_variable=target_variable, top_k_features=all_top_features\n",
    ")\n",
    "plot_feature_time_series_rf(\n",
    "    cv_models, target_variable=target_variable, top_k_features=all_top_features\n",
    ")"
   ]
  },
  {
   "cell_type": "markdown",
   "id": "1d6d1ea2",
   "metadata": {},
   "source": [
    "### Exit\n"
   ]
  },
  {
   "cell_type": "code",
   "execution_count": null,
   "id": "261ced3a",
   "metadata": {},
   "outputs": [],
   "source": [
    "con.close()"
   ]
  }
 ],
 "metadata": {
  "kernelspec": {
   "display_name": ".venv",
   "language": "python",
   "name": "python3"
  },
  "language_info": {
   "codemirror_mode": {
    "name": "ipython",
    "version": 3
   },
   "file_extension": ".py",
   "mimetype": "text/x-python",
   "name": "python",
   "nbconvert_exporter": "python",
   "pygments_lexer": "ipython3",
   "version": "3.13.3"
  }
 },
 "nbformat": 4,
 "nbformat_minor": 5
}
