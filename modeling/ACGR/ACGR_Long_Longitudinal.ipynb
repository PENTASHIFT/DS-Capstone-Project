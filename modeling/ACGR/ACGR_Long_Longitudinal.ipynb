{
 "cells": [
  {
   "cell_type": "code",
   "execution_count": null,
   "id": "69a2b68a",
   "metadata": {},
   "outputs": [],
   "source": [
    "import sqlite3\n",
    "from pathlib import Path\n",
    "\n",
    "__file__ = %pwd\n",
    "DATA = Path(__file__).parent.parent / \"data\"\n",
    "PRIORITIES = DATA / \"Priorities\"\n",
    "DATABASE = DATA / \"databases\" / \"exploration.db\"\n",
    "\n",
    "import sys\n",
    "sys.path.append(str(DATA.parent))  # Add the parent directory of 'modeling' to the Python path\n",
    "\n",
    "con = sqlite3.connect(DATABASE)\n",
    "cur = con.cursor()"
   ]
  },
  {
   "cell_type": "code",
   "execution_count": null,
   "id": "cbc728c9",
   "metadata": {},
   "outputs": [],
   "source": [
    "import pandas as pd\n",
    "import numpy as np\n",
    "\n",
    "df_2016_17 = pd.read_sql_query(\n",
    "    \"SELECT * FROM ACGR WHERE Year = '2016-17' and CharterSchool = 'No ' and DASS = 'No '\",\n",
    "    con,\n",
    ")\n",
    "df_2017_18 = pd.read_sql_query(\n",
    "    \"SELECT * FROM ACGR WHERE Year = '2017-18' and CharterSchool = 'No ' and DASS = 'No '\",\n",
    "    con,\n",
    ")\n",
    "df_2018_19 = pd.read_sql_query(\n",
    "    \"SELECT * FROM ACGR WHERE Year = '2018-19' and CharterSchool = 'No ' and DASS = 'No '\",\n",
    "    con,\n",
    ")\n",
    "df_2019_20 = pd.read_sql_query(\n",
    "    \"SELECT * FROM ACGR WHERE Year = '2019-20' and CharterSchool = 'No ' and DASS = 'No '\",\n",
    "    con,\n",
    ")\n",
    "df_2020_21 = pd.read_sql_query(\n",
    "    \"SELECT * FROM ACGR WHERE Year = '2020-21' and CharterSchool = 'No ' and DASS = 'No '\",\n",
    "    con,\n",
    ")\n",
    "df_2021_22 = pd.read_sql_query(\n",
    "    \"SELECT * FROM ACGR WHERE Year = '2021-22' and CharterSchool = 'No ' and DASS = 'No '\",\n",
    "    con,\n",
    ")\n",
    "df_2022_23 = pd.read_sql_query(\n",
    "    \"SELECT * FROM ACGR WHERE Year = '2022-23' and CharterSchool = 'No ' and DASS = 'No '\",\n",
    "    con,\n",
    ")\n",
    "df_2023_24 = pd.read_sql_query(\n",
    "    \"SELECT * FROM ACGR WHERE Year = '2023-24' and CharterSchool = 'No ' and DASS = 'No '\",\n",
    "    con,\n",
    ")\n",
    "\n",
    "year_df_mapping = {\n",
    "    2016: df_2016_17,\n",
    "    2017: df_2017_18,\n",
    "    2018: df_2018_19,\n",
    "    2019: df_2019_20,\n",
    "    2020: df_2020_21,\n",
    "    2021: df_2021_22,\n",
    "    2022: df_2022_23,\n",
    "    2023: df_2023_24,\n",
    "}\n",
    "grad_rate_columns_to_drop = [\n",
    "    col\n",
    "    for col in df_2016_17.columns\n",
    "    if col.startswith(\"Dropout\") or col.startswith(\"RegHSDiploma\")\n",
    "]\n",
    "csu_rate_columns_to_drop = [\n",
    "    col for col in df_2016_17.columns if col.startswith(\"UniReqs\")\n",
    "]"
   ]
  },
  {
   "cell_type": "markdown",
   "id": "c01639b0",
   "metadata": {},
   "source": [
    "## XGBoost\n"
   ]
  },
  {
   "cell_type": "markdown",
   "id": "436912e4",
   "metadata": {},
   "source": [
    "### Cross-Validated Grad Rate\n"
   ]
  },
  {
   "cell_type": "code",
   "execution_count": null,
   "id": "e5bfd970",
   "metadata": {},
   "outputs": [],
   "source": [
    "from modeling.utils.xgboost import cross_validate_xgboost, plot_cv_feature_importance\n",
    "from modeling.utils.xgboost import (\n",
    "    plot_top_k_features,\n",
    "    plot_feature_avg_variance,\n",
    "    plot_feature_time_series,\n",
    ")\n",
    "\n",
    "cv_xgb_models = {}\n",
    "\n",
    "target_column = \"RegHSDiplomaRate\"\n",
    "\n",
    "for year, year_df in year_df_mapping.items():\n",
    "\n",
    "    year_df.replace(\"*\", np.nan, inplace=True)\n",
    "    year_df[\"Year\"] = year_df[\"Year\"].astype(str).str.split(\"-\").str[0]\n",
    "    year_df = year_df.apply(pd.to_numeric, errors=\"coerce\")\n",
    "    year_df[target_column] = pd.to_numeric(year_df[target_column], errors=\"coerce\")\n",
    "\n",
    "    cv_result = cross_validate_xgboost(\n",
    "        df=year_df,\n",
    "        target_column=target_column,\n",
    "        columns_to_drop=[target_column] + grad_rate_columns_to_drop,\n",
    "        n_splits=5,\n",
    "        print_results=True,\n",
    "        n_jobs=-1,\n",
    "    )\n",
    "\n",
    "    cv_xgb_models[year] = cv_result\n",
    "\n",
    "top_features = plot_cv_feature_importance(cv_xgb_models, top_n=7)"
   ]
  },
  {
   "cell_type": "code",
   "execution_count": null,
   "id": "215c10a2",
   "metadata": {},
   "outputs": [],
   "source": [
    "plot_top_k_features(cv_xgb_models, \"XGBoost\", \"gain\", target_column, k=7)\n",
    "plot_feature_avg_variance(cv_xgb_models, \"XGBoost\", \"gain\", target_column, k=7)\n",
    "plot_feature_time_series(cv_xgb_models, \"XGBoost\", \"gain\", target_column, top_features)"
   ]
  },
  {
   "cell_type": "markdown",
   "id": "fad25a40",
   "metadata": {},
   "source": [
    "### Cross-Validated CSU/UC Readiness Rate\n"
   ]
  },
  {
   "cell_type": "code",
   "execution_count": null,
   "id": "a7ed7157",
   "metadata": {},
   "outputs": [],
   "source": [
    "from modeling.utils.xgboost import cross_validate_xgboost, plot_cv_feature_importance\n",
    "from modeling.utils.xgboost import (\n",
    "    plot_top_k_features,\n",
    "    plot_feature_avg_variance,\n",
    "    plot_feature_time_series,\n",
    ")\n",
    "\n",
    "cv_xgb_models = {}\n",
    "\n",
    "target_column = \"UniReqsPercent\"\n",
    "\n",
    "\n",
    "for year, year_df in year_df_mapping.items():\n",
    "\n",
    "    year_df.replace(\"*\", np.nan, inplace=True)\n",
    "    year_df[\"Year\"] = year_df[\"Year\"].astype(str).str.split(\"-\").str[0]\n",
    "    year_df = year_df.apply(pd.to_numeric, errors=\"coerce\")\n",
    "    year_df[target_column] = pd.to_numeric(year_df[target_column], errors=\"coerce\")\n",
    "\n",
    "    cv_result = cross_validate_xgboost(\n",
    "        df=year_df,\n",
    "        target_column=target_column,\n",
    "        columns_to_drop=csu_rate_columns_to_drop,\n",
    "        n_splits=5,\n",
    "        print_results=True,\n",
    "        n_jobs=-1,\n",
    "    )\n",
    "\n",
    "    cv_xgb_models[year] = cv_result"
   ]
  },
  {
   "cell_type": "code",
   "execution_count": null,
   "id": "36330f1a",
   "metadata": {},
   "outputs": [],
   "source": [
    "top_features = plot_cv_feature_importance(cv_xgb_models, top_n=5)\n",
    "plot_feature_avg_variance(cv_xgb_models, \"XGBoost\", \"gain\", target_column)\n",
    "plot_feature_time_series(cv_xgb_models, \"XGBoost\", \"gain\", target_column, top_features)"
   ]
  },
  {
   "cell_type": "markdown",
   "id": "74879108",
   "metadata": {},
   "source": [
    "## Random Forest\n"
   ]
  },
  {
   "cell_type": "markdown",
   "id": "ad0f5d8f",
   "metadata": {},
   "source": [
    "### Cross Validated Grad Rate\n"
   ]
  },
  {
   "cell_type": "code",
   "execution_count": null,
   "id": "1672a532",
   "metadata": {},
   "outputs": [],
   "source": [
    "from modeling.utils.randomforest import (\n",
    "    cross_validate_random_forest,\n",
    "    plot_cv_feature_importance_rf,\n",
    "    plot_top_k_features_rf,\n",
    "    plot_feature_avg_variance_rf,\n",
    "    plot_feature_time_series_rf,\n",
    ")\n",
    "\n",
    "cv_models = {}\n",
    "\n",
    "target_variable = \"RegHSDiplomaRate\"\n",
    "\n",
    "for year, year_df in year_df_mapping.items():\n",
    "\n",
    "    year_df.replace(\"*\", np.nan, inplace=True)\n",
    "    year_df[\"Year\"] = year_df[\"Year\"].astype(str).str.split(\"-\").str[0]\n",
    "    year_df = year_df.apply(pd.to_numeric, errors=\"coerce\")\n",
    "    year_df[target_column] = pd.to_numeric(year_df[target_column], errors=\"coerce\")\n",
    "\n",
    "    cv_result = cross_validate_random_forest(\n",
    "        df=year_df,\n",
    "        target_column=target_variable,\n",
    "        columns_to_drop=grad_rate_columns_to_drop,\n",
    "        n_splits=5,\n",
    "        print_results=True,\n",
    "        n_jobs=8,\n",
    "    )\n",
    "\n",
    "    cv_models[year] = cv_result"
   ]
  },
  {
   "cell_type": "code",
   "execution_count": null,
   "id": "628f823f",
   "metadata": {},
   "outputs": [],
   "source": [
    "all_top_features = plot_cv_feature_importance_rf(cv_models, top_n=5)\n",
    "\n",
    "\n",
    "plot_top_k_features_rf(cv_models, target_variable=target_variable, k=5)\n",
    "plot_feature_avg_variance_rf(\n",
    "    cv_models, target_variable=target_variable, top_k_features=all_top_features\n",
    ")\n",
    "plot_feature_time_series_rf(\n",
    "    cv_models, target_variable=target_variable, top_k_features=all_top_features\n",
    ")"
   ]
  },
  {
   "cell_type": "markdown",
   "id": "d1d49e0c",
   "metadata": {},
   "source": [
    "### Cross Validated CSU/UC Readiness Rate\n"
   ]
  },
  {
   "cell_type": "code",
   "execution_count": null,
   "id": "8c523336",
   "metadata": {},
   "outputs": [],
   "source": [
    "from modeling.utils.randomforest import (\n",
    "    cross_validate_random_forest,\n",
    "    plot_cv_feature_importance_rf,\n",
    "    plot_top_k_features_rf,\n",
    "    plot_feature_avg_variance_rf,\n",
    "    plot_feature_time_series_rf,\n",
    ")\n",
    "\n",
    "cv_models = {}\n",
    "\n",
    "target_variable = \"UniReqsPercent\"\n",
    "\n",
    "for year, year_df in year_df_mapping.items():\n",
    "\n",
    "    year_df.replace(\"*\", np.nan, inplace=True)\n",
    "    year_df[\"Year\"] = year_df[\"Year\"].astype(str).str.split(\"-\").str[0]\n",
    "    year_df = year_df.apply(pd.to_numeric, errors=\"coerce\")\n",
    "    year_df[target_column] = pd.to_numeric(year_df[target_column], errors=\"coerce\")\n",
    "\n",
    "    cv_result = cross_validate_random_forest(\n",
    "        df=year_df,\n",
    "        target_column=target_variable,\n",
    "        columns_to_drop=csu_rate_columns_to_drop,\n",
    "        n_splits=5,\n",
    "        print_results=False,\n",
    "    )\n",
    "\n",
    "    cv_models[year] = cv_result"
   ]
  },
  {
   "cell_type": "code",
   "execution_count": null,
   "id": "2a70e133",
   "metadata": {},
   "outputs": [],
   "source": [
    "all_top_features = plot_cv_feature_importance_rf(cv_models, top_n=5)\n",
    "plot_top_k_features_rf(cv_models, target_variable=target_variable, k=5)\n",
    "plot_feature_avg_variance_rf(\n",
    "    cv_models, target_variable=target_variable, top_k_features=all_top_features\n",
    ")\n",
    "plot_feature_time_series_rf(\n",
    "    cv_models, target_variable=target_variable, top_k_features=all_top_features\n",
    ")"
   ]
  },
  {
   "cell_type": "code",
   "execution_count": null,
   "id": "373e98d4",
   "metadata": {},
   "outputs": [],
   "source": [
    "con.close()"
   ]
  }
 ],
 "metadata": {
  "kernelspec": {
   "display_name": ".venv",
   "language": "python",
   "name": "python3"
  },
  "language_info": {
   "codemirror_mode": {
    "name": "ipython",
    "version": 3
   },
   "file_extension": ".py",
   "mimetype": "text/x-python",
   "name": "python",
   "nbconvert_exporter": "python",
   "pygments_lexer": "ipython3",
   "version": "3.13.3"
  }
 },
 "nbformat": 4,
 "nbformat_minor": 5
}
