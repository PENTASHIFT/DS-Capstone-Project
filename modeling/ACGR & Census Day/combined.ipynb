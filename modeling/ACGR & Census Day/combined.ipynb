{
 "cells": [
  {
   "cell_type": "code",
   "execution_count": 2,
   "id": "cfd1cfa0",
   "metadata": {},
   "outputs": [],
   "source": [
    "import sqlite3\n",
    "from pathlib import Path\n",
    "\n",
    "__file__ = %pwd\n",
    "DATA = Path(__file__).parent.parent / \"data\"\n",
    "PRIORITIES = DATA / \"Priorities\"\n",
    "DATABASE = DATA / \"databases\" / \"exploration.db\"\n",
    "\n",
    "con = sqlite3.connect(DATABASE)\n",
    "cur = con.cursor()"
   ]
  },
  {
   "cell_type": "code",
   "execution_count": null,
   "id": "62e69459",
   "metadata": {},
   "outputs": [],
   "source": [
    "import pandas as pd\n",
    "\n",
    "# Load long-format tables where ReportingCategory exists as a column\n",
    "census_day = pd.read_sql_query(\"SELECT * FROM CensusDay\", con)\n",
    "acgr = pd.read_sql_query(\"SELECT * FROM ACGR\", con)\n",
    "\n",
    "# Join on SchoolCode and AcademicYear/Year\n",
    "merged = pd.merge(\n",
    "    census_day, \n",
    "    acgr,\n",
    "    left_on=['SchoolCode', 'AcademicYear'],\n",
    "    right_on=['SchoolCode', 'Year'],\n",
    "    how='inner'\n",
    ")\n",
    "\n",
    "\n",
    "merged"
   ]
  }
 ],
 "metadata": {
  "kernelspec": {
   "display_name": ".venv",
   "language": "python",
   "name": "python3"
  },
  "language_info": {
   "codemirror_mode": {
    "name": "ipython",
    "version": 3
   },
   "file_extension": ".py",
   "mimetype": "text/x-python",
   "name": "python",
   "nbconvert_exporter": "python",
   "pygments_lexer": "ipython3",
   "version": "3.13.3"
  }
 },
 "nbformat": 4,
 "nbformat_minor": 5
}
