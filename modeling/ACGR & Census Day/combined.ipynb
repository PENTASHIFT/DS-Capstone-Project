{
 "cells": [
  {
   "cell_type": "code",
   "execution_count": 1,
   "id": "cfd1cfa0",
   "metadata": {},
   "outputs": [],
   "source": [
    "import sqlite3\n",
    "from pathlib import Path\n",
    "\n",
    "__file__ = %pwd\n",
    "DATA = Path(__file__).parent.parent / \"data\"\n",
    "PRIORITIES = DATA / \"Priorities\"\n",
    "DATABASE = DATA / \"databases\" / \"exploration.db\"\n",
    "\n",
    "con = sqlite3.connect(DATABASE)\n",
    "cur = con.cursor()\n",
    "\n",
    "import sys\n",
    "sys.path.append(str(DATA.parent))  # Add the parent directory of 'modeling' to the Python path"
   ]
  },
  {
   "cell_type": "code",
   "execution_count": 2,
   "id": "62e69459",
   "metadata": {},
   "outputs": [
    {
     "ename": "",
     "evalue": "",
     "output_type": "error",
     "traceback": [
      "\u001b[1;31mThe Kernel crashed while executing code in the current cell or a previous cell. \n",
      "\u001b[1;31mPlease review the code in the cell(s) to identify a possible cause of the failure. \n",
      "\u001b[1;31mClick <a href='https://aka.ms/vscodeJupyterKernelCrash'>here</a> for more info. \n",
      "\u001b[1;31mView Jupyter <a href='command:jupyter.viewOutput'>log</a> for further details."
     ]
    }
   ],
   "source": [
    "import pandas as pd\n",
    "import numpy as np\n",
    "\n",
    "census_day = pd.read_sql_query(\"SELECT * FROM CensusDay\", con)\n",
    "acgr = pd.read_sql_query(\"SELECT * FROM ACGR\", con)\n",
    "\n",
    "# Join on SchoolCode and AcademicYear/Year\n",
    "merged = pd.merge(\n",
    "    census_day, \n",
    "    acgr,\n",
    "    left_on=['SchoolCode', 'AcademicYear'],\n",
    "    right_on=['SchoolCode', 'Year'],\n",
    "    how='inner'\n",
    ")"
   ]
  },
  {
   "cell_type": "code",
   "execution_count": null,
   "id": "03de045c",
   "metadata": {},
   "outputs": [],
   "source": [
    "\n",
    "import modeling.utils.lasso as lasso_utils\n",
    "\n",
    "target_column = \"RegHSDiplomaRate.TA\"\n",
    "columns_to_drop = [col for col in merged.columns if col.startswith(\"UniReqs\") or col.startswith(\"RegHSDiploma\") or col.startswith(\"Dropout\")]\n",
    "\n",
    "X_numeric, y, sorted_pairs = lasso_utils.fit_lasso_model(\n",
    "    merged, target_column, columns_to_drop\n",
    ")\n",
    "lasso_utils.plot_lasso_coefficients(target_column, sorted_pairs)\n",
    "lasso_model = lasso_utils.LassoCV(cv=5, random_state=42, max_iter=10000)\n",
    "lasso_results = lasso_utils.train_and_evaluate_lasso_model(X_numeric, y, lasso_model)\n",
    "print(f\"R^2 Score: {lasso_results['r2']}\")\n",
    "print(f\"Mean Squared Error: {lasso_results['mse']}\")\n",
    "print(f\"Root Mean Squared Error: {lasso_results['rmse']}\")\n",
    "lasso_utils.plot_lasso_residuals(\n",
    "    lasso_results[\"y_test\"], lasso_results[\"y_pred\"], target_column\n",
    ")\n",
    "lasso_utils.plot_actual_predicted_lasso(\n",
    "    lasso_results[\"y_test\"], lasso_results[\"y_pred\"], target_column\n",
    ")"
   ]
  }
 ],
 "metadata": {
  "kernelspec": {
   "display_name": "base",
   "language": "python",
   "name": "python3"
  },
  "language_info": {
   "codemirror_mode": {
    "name": "ipython",
    "version": 3
   },
   "file_extension": ".py",
   "mimetype": "text/x-python",
   "name": "python",
   "nbconvert_exporter": "python",
   "pygments_lexer": "ipython3",
   "version": "3.12.1"
  }
 },
 "nbformat": 4,
 "nbformat_minor": 5
}
