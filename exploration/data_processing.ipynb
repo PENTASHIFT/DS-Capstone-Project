{
 "cells": [
  {
   "cell_type": "code",
   "execution_count": 1,
   "id": "36865e9d-7389-492f-b254-5a89cc2769fe",
   "metadata": {},
   "outputs": [],
   "source": [
    "import sqlite3\n",
    "\n",
    "import pandas as pd\n",
    "from pathlib import Path"
   ]
  },
  {
   "cell_type": "markdown",
   "id": "d0b29a7e-b0d7-4907-bbd7-710d159ba409",
   "metadata": {},
   "source": [
    "## Constants"
   ]
  },
  {
   "cell_type": "code",
   "execution_count": 2,
   "id": "a309b7e5-4319-42fa-b1e3-3c5e214a7ff0",
   "metadata": {},
   "outputs": [],
   "source": [
    "__file__ = %pwd\n",
    "DATA = Path(__file__).parent / \"data\"\n",
    "PRIORITIES = DATA / \"Priorities\"\n",
    "DATABASE = DATA / \"databases\" / \"exploration.db\"\n",
    "DB_INSERT = True"
   ]
  },
  {
   "cell_type": "markdown",
   "id": "a97fd7c6-d58c-4e90-aaac-073de608dffe",
   "metadata": {},
   "source": [
    "## Load the Data"
   ]
  },
  {
   "cell_type": "code",
   "execution_count": 3,
   "id": "77f5a107-11fc-4b29-b0d7-9acbc9ffa12b",
   "metadata": {},
   "outputs": [],
   "source": [
    "pub_schools_columns = [\n",
    "    \"CDSCode\", \"NCESDist\", \"NCESSchool\", \"StatusType\",\n",
    "    \"County\", \"District\", \"School\", \"Street\", \"StreetAbr\",\n",
    "    \"City\", \"Zip\", \"State\", \"MailStreet\", \"MailStreetAbr\",\n",
    "    \"MailCity\", \"MailZip\", \"MailState\", \"Phone\", \"PhoneExt\",\n",
    "    \"FaxNumber\", \"Website\", \"OpenDate\", \"ClosedDate\", \"Charter\",\n",
    "    \"CharterNum\", \"FundingType\", \"DOC\", \"DOCType\", \"SOC\",\n",
    "    \"SOCType\", \"EdOpsCode\", \"EdOpsName\", \"EILCode\", \"EILName\",\n",
    "    \"GSoffered\", \"GSserved\", \"Virtual\", \"Magnet\", \"YearRound\",\n",
    "    \"FederalDFCDistrictID\", \"Latitude\", \"Longitude\", \"AdmFName\",\n",
    "    \"AdmLName\", \"LastUpDate\", \"Multilingual\"\n",
    "]"
   ]
  },
  {
   "cell_type": "code",
   "execution_count": 4,
   "id": "e1f9d073-10bc-40e1-8996-518ac41489c5",
   "metadata": {},
   "outputs": [],
   "source": [
    "p1 = pd.read_excel(PRIORITIES / \"Pr12024.xlsx\")\n",
    "p2 = pd.read_excel(PRIORITIES / \"Pr22024.xlsx\")\n",
    "p3 = pd.read_excel(PRIORITIES / \"Pr32024.xlsx\")\n",
    "p6 = pd.read_excel(PRIORITIES / \"Pr62024.xlsx\")\n",
    "p7 = pd.read_excel(PRIORITIES / \"Pr72024.xlsx\")\n",
    "p9 = pd.read_excel(PRIORITIES / \"Pr92024.xlsx\")\n",
    "p10 = pd.read_excel(PRIORITIES / \"Pr102024.xlsx\")\n",
    "pub_schools = pd.read_excel(DATA / \"pubschls.xlsx\", names=pub_schools_columns, skiprows=5)[:-1] # So many junk rows in this dataset\n",
    "cde = pd.read_csv(DATA / \"cdenroll2324-v2.txt\", sep=\"\\t\")"
   ]
  },
  {
   "cell_type": "markdown",
   "id": "9ffd1e21-4dc0-4a6e-b50d-59b9b1bd760a",
   "metadata": {},
   "source": [
    "## Data Processing"
   ]
  },
  {
   "cell_type": "markdown",
   "id": "17a1b6b0-33a9-4ab7-900c-ca2e370d872e",
   "metadata": {},
   "source": [
    "All datasets besides the `cdenroll2324-v2.txt` dataset use an amalgamated `CDSCode` rather than independent `CountyID`, etc. columns. As such, we should split this column into `county_id`, `district_id`, and `school_id` in order for ease of access to their respective names in `Counties`, `Districts`, and `Schools` tables. "
   ]
  },
  {
   "cell_type": "code",
   "execution_count": 5,
   "id": "16552d48-38c7-4c7f-8d9c-abef945f5259",
   "metadata": {},
   "outputs": [],
   "source": [
    "def get_countyCode(cds_code: int) -> int:\n",
    "    county_digits = 1e12\n",
    "    return int(cds_code / county_digits)\n",
    "\n",
    "def get_districtCode(cds_code: int) -> int:\n",
    "    district_digits = 1e7\n",
    "    county_digits = 1e12\n",
    "    return int((cds_code % county_digits) / district_digits)\n",
    "\n",
    "def get_schoolCode(cds_code: int) -> int:\n",
    "    district_digits = 1e7\n",
    "    return int(cds_code % district_digits)\n",
    "\n",
    "def cds_code_split(cds_code: int) -> pd.Series:\n",
    "    return pd.Series([get_countyCode(cds_code), get_districtCode(cds_code), get_schoolCode(cds_code)])"
   ]
  },
  {
   "cell_type": "code",
   "execution_count": 6,
   "id": "cd6e0a11-860d-48ee-9202-679d4930182f",
   "metadata": {},
   "outputs": [],
   "source": [
    "p1[[\"CountyCode\", \"DistrictCode\", \"SchoolCode\"]] = p1.apply(lambda row: cds_code_split(int(row[\"cdsCode\"])), axis=1)\n",
    "p2[[\"CountyCode\", \"DistrictCode\", \"SchoolCode\"]] = p2.apply(lambda row: cds_code_split(int(row[\"cdsCode\"])), axis=1)\n",
    "p3[[\"CountyCode\", \"DistrictCode\", \"SchoolCode\"]] = p3.apply(lambda row: cds_code_split(int(row[\"cdsCode\"])), axis=1)\n",
    "p6[[\"CountyCode\", \"DistrictCode\", \"SchoolCode\"]] = p6.apply(lambda row: cds_code_split(int(row[\"cdsCode\"])), axis=1)\n",
    "p7[[\"CountyCode\", \"DistrictCode\", \"SchoolCode\"]] = p7.apply(lambda row: cds_code_split(int(row[\"cdsCode\"])), axis=1)\n",
    "p9[[\"CountyCode\", \"DistrictCode\", \"SchoolCode\"]] = p9.apply(lambda row: cds_code_split(int(row[\"cdsCode\"])), axis=1)\n",
    "p10[[\"CountyCode\", \"DistrictCode\", \"SchoolCode\"]] = p10.apply(lambda row: cds_code_split(int(row[\"cdsCode\"])), axis=1)\n",
    "\n",
    "pub_schools[[\"CountyCode\", \"DistrictCode\", \"SchoolCode\"]] = pub_schools.apply(\n",
    "    lambda row: cds_code_split(int(row[\"CDSCode\"])), axis=1\n",
    ")"
   ]
  },
  {
   "cell_type": "markdown",
   "id": "9061a99c-73e2-4436-9c3c-626fc213f435",
   "metadata": {},
   "source": [
    "#### Coalesce every school into a single dataframe"
   ]
  },
  {
   "cell_type": "code",
   "execution_count": 7,
   "id": "544846d3-bdd3-4457-b422-a02dc892773c",
   "metadata": {},
   "outputs": [],
   "source": [
    "cde_school_codes = cde[[\"SchoolCode\", \"SchoolName\"]].drop_duplicates()\n",
    "cde_school_codes_unique = cde_school_codes[cde_school_codes[\"SchoolCode\"].notnull()]"
   ]
  },
  {
   "cell_type": "code",
   "execution_count": 8,
   "id": "3be23db7-47d1-4edb-ab1e-9b0898484f8c",
   "metadata": {},
   "outputs": [
    {
     "data": {
      "text/plain": [
       "Index(['CDSCode', 'NCESDist', 'NCESSchool', 'StatusType', 'County', 'District',\n",
       "       'School', 'Street', 'StreetAbr', 'City', 'Zip', 'State', 'MailStreet',\n",
       "       'MailStreetAbr', 'MailCity', 'MailZip', 'MailState', 'Phone',\n",
       "       'PhoneExt', 'FaxNumber', 'Website', 'OpenDate', 'ClosedDate', 'Charter',\n",
       "       'CharterNum', 'FundingType', 'DOC', 'DOCType', 'SOC', 'SOCType',\n",
       "       'EdOpsCode', 'EdOpsName', 'EILCode', 'EILName', 'GSoffered', 'GSserved',\n",
       "       'Virtual', 'Magnet', 'YearRound', 'FederalDFCDistrictID', 'Latitude',\n",
       "       'Longitude', 'AdmFName', 'AdmLName', 'LastUpDate', 'Multilingual',\n",
       "       'CountyCode', 'DistrictCode', 'SchoolCode'],\n",
       "      dtype='object')"
      ]
     },
     "execution_count": 8,
     "metadata": {},
     "output_type": "execute_result"
    }
   ],
   "source": [
    "pub_schools.columns"
   ]
  },
  {
   "cell_type": "code",
   "execution_count": 9,
   "id": "a1a3a803-51d1-4172-addf-cc0fba6d8768",
   "metadata": {
    "scrolled": true
   },
   "outputs": [
    {
     "data": {
      "text/html": [
       "<div>\n",
       "<style scoped>\n",
       "    .dataframe tbody tr th:only-of-type {\n",
       "        vertical-align: middle;\n",
       "    }\n",
       "\n",
       "    .dataframe tbody tr th {\n",
       "        vertical-align: top;\n",
       "    }\n",
       "\n",
       "    .dataframe thead th {\n",
       "        text-align: right;\n",
       "    }\n",
       "</style>\n",
       "<table border=\"1\" class=\"dataframe\">\n",
       "  <thead>\n",
       "    <tr style=\"text-align: right;\">\n",
       "      <th></th>\n",
       "      <th>SchoolCode</th>\n",
       "      <th>SchoolName</th>\n",
       "    </tr>\n",
       "  </thead>\n",
       "  <tbody>\n",
       "    <tr>\n",
       "      <th>7</th>\n",
       "      <td>129403</td>\n",
       "      <td>Epic Charter</td>\n",
       "    </tr>\n",
       "    <tr>\n",
       "      <th>41</th>\n",
       "      <td>6106751</td>\n",
       "      <td>Alameda County Special Education</td>\n",
       "    </tr>\n",
       "    <tr>\n",
       "      <th>56</th>\n",
       "      <td>130120</td>\n",
       "      <td>Alameda Adult</td>\n",
       "    </tr>\n",
       "    <tr>\n",
       "      <th>64</th>\n",
       "      <td>138214</td>\n",
       "      <td>Alameda Unified Special Education</td>\n",
       "    </tr>\n",
       "    <tr>\n",
       "      <th>109</th>\n",
       "      <td>122804</td>\n",
       "      <td>Berkeley Special Education Preschool</td>\n",
       "    </tr>\n",
       "    <tr>\n",
       "      <th>...</th>\n",
       "      <td>...</td>\n",
       "      <td>...</td>\n",
       "    </tr>\n",
       "    <tr>\n",
       "      <th>18221</th>\n",
       "      <td>5730080</td>\n",
       "      <td>West Sacramento School for Independent Study</td>\n",
       "    </tr>\n",
       "    <tr>\n",
       "      <th>18258</th>\n",
       "      <td>5738703</td>\n",
       "      <td>Woodland Adult Education</td>\n",
       "    </tr>\n",
       "    <tr>\n",
       "      <th>18279</th>\n",
       "      <td>5790019</td>\n",
       "      <td>Yolo County ROP</td>\n",
       "    </tr>\n",
       "    <tr>\n",
       "      <th>18285</th>\n",
       "      <td>141440</td>\n",
       "      <td>Yuba County Adult Education</td>\n",
       "    </tr>\n",
       "    <tr>\n",
       "      <th>18311</th>\n",
       "      <td>5830021</td>\n",
       "      <td>Marysville Adult</td>\n",
       "    </tr>\n",
       "  </tbody>\n",
       "</table>\n",
       "<p>656 rows × 2 columns</p>\n",
       "</div>"
      ],
      "text/plain": [
       "       SchoolCode                                    SchoolName\n",
       "7          129403                                  Epic Charter\n",
       "41        6106751              Alameda County Special Education\n",
       "56         130120                                 Alameda Adult\n",
       "64         138214             Alameda Unified Special Education\n",
       "109        122804          Berkeley Special Education Preschool\n",
       "...           ...                                           ...\n",
       "18221     5730080  West Sacramento School for Independent Study\n",
       "18258     5738703                      Woodland Adult Education\n",
       "18279     5790019                               Yolo County ROP\n",
       "18285      141440                   Yuba County Adult Education\n",
       "18311     5830021                              Marysville Adult\n",
       "\n",
       "[656 rows x 2 columns]"
      ]
     },
     "execution_count": 9,
     "metadata": {},
     "output_type": "execute_result"
    }
   ],
   "source": [
    "# Check to see what is missing\n",
    "pub_school_codes = pub_schools[\n",
    "    (~pub_schools[\"SchoolCode\"].isin(cde_school_codes_unique[\"SchoolCode\"])) & (pub_schools[\"StatusType\"] == \"Active\")\n",
    "][[\"SchoolCode\", \"School\"]]\n",
    "pub_school_codes_unique = pub_school_codes[pub_school_codes[\"SchoolCode\"].notnull()].drop_duplicates()\n",
    "pub_school_codes_unique.columns = [\"SchoolCode\", \"SchoolName\"]\n",
    "pub_school_codes_unique"
   ]
  },
  {
   "cell_type": "code",
   "execution_count": 10,
   "id": "8a3aca8b-67e8-4cb9-96b9-edb469e41f18",
   "metadata": {},
   "outputs": [
    {
     "data": {
      "text/html": [
       "<div>\n",
       "<style scoped>\n",
       "    .dataframe tbody tr th:only-of-type {\n",
       "        vertical-align: middle;\n",
       "    }\n",
       "\n",
       "    .dataframe tbody tr th {\n",
       "        vertical-align: top;\n",
       "    }\n",
       "\n",
       "    .dataframe thead th {\n",
       "        text-align: right;\n",
       "    }\n",
       "</style>\n",
       "<table border=\"1\" class=\"dataframe\">\n",
       "  <thead>\n",
       "    <tr style=\"text-align: right;\">\n",
       "      <th></th>\n",
       "      <th>SchoolCode</th>\n",
       "      <th>SchoolName</th>\n",
       "    </tr>\n",
       "  </thead>\n",
       "  <tbody>\n",
       "    <tr>\n",
       "      <th>272</th>\n",
       "      <td>112607.0</td>\n",
       "      <td>Envision Academy for Arts &amp; Technology</td>\n",
       "    </tr>\n",
       "    <tr>\n",
       "      <th>295</th>\n",
       "      <td>123968.0</td>\n",
       "      <td>Community School for Creative Education</td>\n",
       "    </tr>\n",
       "    <tr>\n",
       "      <th>316</th>\n",
       "      <td>124172.0</td>\n",
       "      <td>Yu Ming Charter</td>\n",
       "    </tr>\n",
       "    <tr>\n",
       "      <th>336</th>\n",
       "      <td>125567.0</td>\n",
       "      <td>Urban Montessori Charter</td>\n",
       "    </tr>\n",
       "    <tr>\n",
       "      <th>356</th>\n",
       "      <td>130401.0</td>\n",
       "      <td>Alameda County Juvenile Hall/Court</td>\n",
       "    </tr>\n",
       "    <tr>\n",
       "      <th>...</th>\n",
       "      <td>...</td>\n",
       "      <td>...</td>\n",
       "    </tr>\n",
       "    <tr>\n",
       "      <th>18221</th>\n",
       "      <td>5730080.0</td>\n",
       "      <td>West Sacramento School for Independent Study</td>\n",
       "    </tr>\n",
       "    <tr>\n",
       "      <th>18258</th>\n",
       "      <td>5738703.0</td>\n",
       "      <td>Woodland Adult Education</td>\n",
       "    </tr>\n",
       "    <tr>\n",
       "      <th>18279</th>\n",
       "      <td>5790019.0</td>\n",
       "      <td>Yolo County ROP</td>\n",
       "    </tr>\n",
       "    <tr>\n",
       "      <th>18285</th>\n",
       "      <td>141440.0</td>\n",
       "      <td>Yuba County Adult Education</td>\n",
       "    </tr>\n",
       "    <tr>\n",
       "      <th>18311</th>\n",
       "      <td>5830021.0</td>\n",
       "      <td>Marysville Adult</td>\n",
       "    </tr>\n",
       "  </tbody>\n",
       "</table>\n",
       "<p>10654 rows × 2 columns</p>\n",
       "</div>"
      ],
      "text/plain": [
       "       SchoolCode                                    SchoolName\n",
       "272      112607.0        Envision Academy for Arts & Technology\n",
       "295      123968.0       Community School for Creative Education\n",
       "316      124172.0                               Yu Ming Charter\n",
       "336      125567.0                      Urban Montessori Charter\n",
       "356      130401.0            Alameda County Juvenile Hall/Court\n",
       "...           ...                                           ...\n",
       "18221   5730080.0  West Sacramento School for Independent Study\n",
       "18258   5738703.0                      Woodland Adult Education\n",
       "18279   5790019.0                               Yolo County ROP\n",
       "18285    141440.0                   Yuba County Adult Education\n",
       "18311   5830021.0                              Marysville Adult\n",
       "\n",
       "[10654 rows x 2 columns]"
      ]
     },
     "execution_count": 10,
     "metadata": {},
     "output_type": "execute_result"
    }
   ],
   "source": [
    "school_codes = pd.concat([cde_school_codes_unique, pub_school_codes_unique]).drop_duplicates()\n",
    "school_codes"
   ]
  },
  {
   "cell_type": "markdown",
   "id": "b9c395ad-53d2-4aca-b782-969e93e2ec1c",
   "metadata": {},
   "source": [
    "#### Coalesce every district into a single dataframe"
   ]
  },
  {
   "cell_type": "code",
   "execution_count": 11,
   "id": "b42c390e-0b4a-4b03-be25-2af397b38939",
   "metadata": {},
   "outputs": [],
   "source": [
    "cde_district_codes = cde[[\"DistrictCode\", \"DistrictName\"]].drop_duplicates()\n",
    "cde_district_codes_unique = cde_district_codes[cde_district_codes[\"DistrictCode\"].notnull()]"
   ]
  },
  {
   "cell_type": "code",
   "execution_count": 12,
   "id": "230edf88-3ffe-47ca-92c9-a861a7cf2312",
   "metadata": {},
   "outputs": [
    {
     "data": {
      "text/html": [
       "<div>\n",
       "<style scoped>\n",
       "    .dataframe tbody tr th:only-of-type {\n",
       "        vertical-align: middle;\n",
       "    }\n",
       "\n",
       "    .dataframe tbody tr th {\n",
       "        vertical-align: top;\n",
       "    }\n",
       "\n",
       "    .dataframe thead th {\n",
       "        text-align: right;\n",
       "    }\n",
       "</style>\n",
       "<table border=\"1\" class=\"dataframe\">\n",
       "  <thead>\n",
       "    <tr style=\"text-align: right;\">\n",
       "      <th></th>\n",
       "      <th>DistrictCode</th>\n",
       "      <th>DistrictName</th>\n",
       "    </tr>\n",
       "  </thead>\n",
       "  <tbody>\n",
       "    <tr>\n",
       "      <th>722</th>\n",
       "      <td>74005</td>\n",
       "      <td>Tri-Valley ROP</td>\n",
       "    </tr>\n",
       "    <tr>\n",
       "      <th>724</th>\n",
       "      <td>74013</td>\n",
       "      <td>Eden Area ROP</td>\n",
       "    </tr>\n",
       "    <tr>\n",
       "      <th>726</th>\n",
       "      <td>74021</td>\n",
       "      <td>Mission Valley ROC/P</td>\n",
       "    </tr>\n",
       "    <tr>\n",
       "      <th>845</th>\n",
       "      <td>74856</td>\n",
       "      <td>Amador County ROP</td>\n",
       "    </tr>\n",
       "    <tr>\n",
       "      <th>1018</th>\n",
       "      <td>74682</td>\n",
       "      <td>Butte County ROP</td>\n",
       "    </tr>\n",
       "    <tr>\n",
       "      <th>...</th>\n",
       "      <td>...</td>\n",
       "      <td>...</td>\n",
       "    </tr>\n",
       "    <tr>\n",
       "      <th>16814</th>\n",
       "      <td>74591</td>\n",
       "      <td>Sonoma County ROP</td>\n",
       "    </tr>\n",
       "    <tr>\n",
       "      <th>17097</th>\n",
       "      <td>74609</td>\n",
       "      <td>Yosemite ROP</td>\n",
       "    </tr>\n",
       "    <tr>\n",
       "      <th>17244</th>\n",
       "      <td>74633</td>\n",
       "      <td>Tri-County ROP</td>\n",
       "    </tr>\n",
       "    <tr>\n",
       "      <th>18149</th>\n",
       "      <td>74617</td>\n",
       "      <td>Ventura County ROP</td>\n",
       "    </tr>\n",
       "    <tr>\n",
       "      <th>18278</th>\n",
       "      <td>74625</td>\n",
       "      <td>Yolo County ROP</td>\n",
       "    </tr>\n",
       "  </tbody>\n",
       "</table>\n",
       "<p>62 rows × 2 columns</p>\n",
       "</div>"
      ],
      "text/plain": [
       "       DistrictCode          DistrictName\n",
       "722           74005        Tri-Valley ROP\n",
       "724           74013         Eden Area ROP\n",
       "726           74021  Mission Valley ROC/P\n",
       "845           74856     Amador County ROP\n",
       "1018          74682      Butte County ROP\n",
       "...             ...                   ...\n",
       "16814         74591     Sonoma County ROP\n",
       "17097         74609          Yosemite ROP\n",
       "17244         74633        Tri-County ROP\n",
       "18149         74617    Ventura County ROP\n",
       "18278         74625       Yolo County ROP\n",
       "\n",
       "[62 rows x 2 columns]"
      ]
     },
     "execution_count": 12,
     "metadata": {},
     "output_type": "execute_result"
    }
   ],
   "source": [
    "# Check to see what is missing\n",
    "pub_district_codes = pub_schools[\n",
    "    (~pub_schools[\"DistrictCode\"].isin(cde_district_codes_unique[\"DistrictCode\"])) & (pub_schools[\"StatusType\"] == \"Active\")\n",
    "][[\"DistrictCode\", \"District\"]]\n",
    "pub_district_codes_unique = pub_district_codes[pub_district_codes[\"DistrictCode\"].notnull()].drop_duplicates()\n",
    "pub_district_codes_unique.columns = [\"DistrictCode\", \"DistrictName\"]\n",
    "pub_district_codes_unique"
   ]
  },
  {
   "cell_type": "code",
   "execution_count": 13,
   "id": "03802b2f-d950-4c90-8ada-30ff43f4b42e",
   "metadata": {
    "scrolled": true
   },
   "outputs": [
    {
     "data": {
      "text/html": [
       "<div>\n",
       "<style scoped>\n",
       "    .dataframe tbody tr th:only-of-type {\n",
       "        vertical-align: middle;\n",
       "    }\n",
       "\n",
       "    .dataframe tbody tr th {\n",
       "        vertical-align: top;\n",
       "    }\n",
       "\n",
       "    .dataframe thead th {\n",
       "        text-align: right;\n",
       "    }\n",
       "</style>\n",
       "<table border=\"1\" class=\"dataframe\">\n",
       "  <thead>\n",
       "    <tr style=\"text-align: right;\">\n",
       "      <th></th>\n",
       "      <th>DistrictCode</th>\n",
       "      <th>DistrictName</th>\n",
       "    </tr>\n",
       "  </thead>\n",
       "  <tbody>\n",
       "    <tr>\n",
       "      <th>189</th>\n",
       "      <td>10017.0</td>\n",
       "      <td>Alameda County Office of Education</td>\n",
       "    </tr>\n",
       "    <tr>\n",
       "      <th>556</th>\n",
       "      <td>31609.0</td>\n",
       "      <td>California School for the Blind (State Special...</td>\n",
       "    </tr>\n",
       "    <tr>\n",
       "      <th>619</th>\n",
       "      <td>31617.0</td>\n",
       "      <td>California School for the Deaf-Fremont (State ...</td>\n",
       "    </tr>\n",
       "    <tr>\n",
       "      <th>694</th>\n",
       "      <td>61119.0</td>\n",
       "      <td>Alameda Unified</td>\n",
       "    </tr>\n",
       "    <tr>\n",
       "      <th>1176</th>\n",
       "      <td>61127.0</td>\n",
       "      <td>Albany City Unified</td>\n",
       "    </tr>\n",
       "    <tr>\n",
       "      <th>...</th>\n",
       "      <td>...</td>\n",
       "      <td>...</td>\n",
       "    </tr>\n",
       "    <tr>\n",
       "      <th>16814</th>\n",
       "      <td>74591.0</td>\n",
       "      <td>Sonoma County ROP</td>\n",
       "    </tr>\n",
       "    <tr>\n",
       "      <th>17097</th>\n",
       "      <td>74609.0</td>\n",
       "      <td>Yosemite ROP</td>\n",
       "    </tr>\n",
       "    <tr>\n",
       "      <th>17244</th>\n",
       "      <td>74633.0</td>\n",
       "      <td>Tri-County ROP</td>\n",
       "    </tr>\n",
       "    <tr>\n",
       "      <th>18149</th>\n",
       "      <td>74617.0</td>\n",
       "      <td>Ventura County ROP</td>\n",
       "    </tr>\n",
       "    <tr>\n",
       "      <th>18278</th>\n",
       "      <td>74625.0</td>\n",
       "      <td>Yolo County ROP</td>\n",
       "    </tr>\n",
       "  </tbody>\n",
       "</table>\n",
       "<p>1079 rows × 2 columns</p>\n",
       "</div>"
      ],
      "text/plain": [
       "       DistrictCode                                       DistrictName\n",
       "189         10017.0                 Alameda County Office of Education\n",
       "556         31609.0  California School for the Blind (State Special...\n",
       "619         31617.0  California School for the Deaf-Fremont (State ...\n",
       "694         61119.0                                    Alameda Unified\n",
       "1176        61127.0                                Albany City Unified\n",
       "...             ...                                                ...\n",
       "16814       74591.0                                  Sonoma County ROP\n",
       "17097       74609.0                                       Yosemite ROP\n",
       "17244       74633.0                                     Tri-County ROP\n",
       "18149       74617.0                                 Ventura County ROP\n",
       "18278       74625.0                                    Yolo County ROP\n",
       "\n",
       "[1079 rows x 2 columns]"
      ]
     },
     "execution_count": 13,
     "metadata": {},
     "output_type": "execute_result"
    }
   ],
   "source": [
    "district_codes = pd.concat([cde_district_codes_unique, pub_district_codes_unique]).drop_duplicates()\n",
    "district_codes"
   ]
  },
  {
   "cell_type": "markdown",
   "id": "491cfe7f-188c-4306-b0f7-197a35d11d1d",
   "metadata": {
    "jp-MarkdownHeadingCollapsed": true
   },
   "source": [
    "#### Coalesce every county into a single dataframe"
   ]
  },
  {
   "cell_type": "code",
   "execution_count": 14,
   "id": "482096bf-9f87-4f2b-b7cb-e4d11641da5d",
   "metadata": {},
   "outputs": [],
   "source": [
    "cde_county_codes = cde[[\"CountyCode\", \"CountyName\"]].drop_duplicates()\n",
    "cde_county_codes_unique = cde_county_codes[cde_county_codes[\"CountyCode\"].notnull()]"
   ]
  },
  {
   "cell_type": "code",
   "execution_count": 15,
   "id": "5b084f41-92a3-4ac0-8f88-d4f50c1cb415",
   "metadata": {},
   "outputs": [
    {
     "data": {
      "text/html": [
       "<div>\n",
       "<style scoped>\n",
       "    .dataframe tbody tr th:only-of-type {\n",
       "        vertical-align: middle;\n",
       "    }\n",
       "\n",
       "    .dataframe tbody tr th {\n",
       "        vertical-align: top;\n",
       "    }\n",
       "\n",
       "    .dataframe thead th {\n",
       "        text-align: right;\n",
       "    }\n",
       "</style>\n",
       "<table border=\"1\" class=\"dataframe\">\n",
       "  <thead>\n",
       "    <tr style=\"text-align: right;\">\n",
       "      <th></th>\n",
       "      <th>CountyCode</th>\n",
       "      <th>CountyName</th>\n",
       "    </tr>\n",
       "  </thead>\n",
       "  <tbody>\n",
       "  </tbody>\n",
       "</table>\n",
       "</div>"
      ],
      "text/plain": [
       "Empty DataFrame\n",
       "Columns: [CountyCode, CountyName]\n",
       "Index: []"
      ]
     },
     "execution_count": 15,
     "metadata": {},
     "output_type": "execute_result"
    }
   ],
   "source": [
    "# Check to see what is missing\n",
    "pub_county_codes = pub_schools[~pub_schools[\"CountyCode\"].isin(cde_county_codes_unique[\"CountyCode\"])][[\"CountyCode\", \"County\"]]\n",
    "pub_county_codes_unique = pub_county_codes[pub_county_codes[\"CountyCode\"].notnull()].drop_duplicates()\n",
    "pub_county_codes_unique.columns = [\"CountyCode\", \"CountyName\"]\n",
    "pub_county_codes_unique"
   ]
  },
  {
   "cell_type": "markdown",
   "id": "30fd5c39-907c-4fae-8c4b-d1a7949792dc",
   "metadata": {
    "jp-MarkdownHeadingCollapsed": true
   },
   "source": [
    "#### Coalescing is apparently not necessary here"
   ]
  },
  {
   "cell_type": "code",
   "execution_count": 16,
   "id": "39dd56ad-294a-461b-91ad-10b0f73d9932",
   "metadata": {},
   "outputs": [],
   "source": [
    "county_codes = cde_county_codes_unique"
   ]
  },
  {
   "cell_type": "markdown",
   "id": "dcefb499-3a28-4bcf-a2cd-86bed8a1428e",
   "metadata": {},
   "source": [
    "#### Some of the `lea` values in the priorities dataset do not translate directly to `school_codes` or `district_codes`, as such, we need to keep them."
   ]
  },
  {
   "cell_type": "code",
   "execution_count": 17,
   "id": "0ded1057-1b0a-4e89-bde8-ab7960bc15a5",
   "metadata": {
    "scrolled": true
   },
   "outputs": [
    {
     "data": {
      "text/html": [
       "<div>\n",
       "<style scoped>\n",
       "    .dataframe tbody tr th:only-of-type {\n",
       "        vertical-align: middle;\n",
       "    }\n",
       "\n",
       "    .dataframe tbody tr th {\n",
       "        vertical-align: top;\n",
       "    }\n",
       "\n",
       "    .dataframe thead th {\n",
       "        text-align: right;\n",
       "    }\n",
       "</style>\n",
       "<table border=\"1\" class=\"dataframe\">\n",
       "  <thead>\n",
       "    <tr style=\"text-align: right;\">\n",
       "      <th></th>\n",
       "      <th>cdsCode</th>\n",
       "      <th>lea</th>\n",
       "      <th>priorityNumber</th>\n",
       "      <th>numMisassignments</th>\n",
       "      <th>numMaterials</th>\n",
       "      <th>numFacilities</th>\n",
       "      <th>countyPerformance</th>\n",
       "      <th>additionalInfo</th>\n",
       "      <th>meetingDate</th>\n",
       "      <th>year</th>\n",
       "      <th>CountyCode</th>\n",
       "      <th>DistrictCode</th>\n",
       "      <th>SchoolCode</th>\n",
       "    </tr>\n",
       "  </thead>\n",
       "  <tbody>\n",
       "    <tr>\n",
       "      <th>476</th>\n",
       "      <td>19101990135582</td>\n",
       "      <td>Westbrook Academy</td>\n",
       "      <td>1</td>\n",
       "      <td>NaN</td>\n",
       "      <td>0</td>\n",
       "      <td>0.0</td>\n",
       "      <td>Met</td>\n",
       "      <td>By the end of the 2023-24 school year the scho...</td>\n",
       "      <td>2024-06-13</td>\n",
       "      <td>2024</td>\n",
       "      <td>19</td>\n",
       "      <td>10199</td>\n",
       "      <td>135582</td>\n",
       "    </tr>\n",
       "    <tr>\n",
       "      <th>621</th>\n",
       "      <td>19647330117846</td>\n",
       "      <td>Para Los Niños Middle</td>\n",
       "      <td>1</td>\n",
       "      <td>NaN</td>\n",
       "      <td>NaN</td>\n",
       "      <td>NaN</td>\n",
       "      <td>Not Met</td>\n",
       "      <td>NaN</td>\n",
       "      <td>NaN</td>\n",
       "      <td>2024</td>\n",
       "      <td>19</td>\n",
       "      <td>64733</td>\n",
       "      <td>117846</td>\n",
       "    </tr>\n",
       "    <tr>\n",
       "      <th>651</th>\n",
       "      <td>19647330122630</td>\n",
       "      <td>Para Los Niños - Evelyn Thurman Gratts Primary</td>\n",
       "      <td>1</td>\n",
       "      <td>NaN</td>\n",
       "      <td>NaN</td>\n",
       "      <td>NaN</td>\n",
       "      <td>Not Met</td>\n",
       "      <td>NaN</td>\n",
       "      <td>NaN</td>\n",
       "      <td>2024</td>\n",
       "      <td>19</td>\n",
       "      <td>64733</td>\n",
       "      <td>122630</td>\n",
       "    </tr>\n",
       "    <tr>\n",
       "      <th>824</th>\n",
       "      <td>19647336120489</td>\n",
       "      <td>Para Los Niños Charter</td>\n",
       "      <td>1</td>\n",
       "      <td>NaN</td>\n",
       "      <td>0</td>\n",
       "      <td>0.0</td>\n",
       "      <td>Not Met</td>\n",
       "      <td>NaN</td>\n",
       "      <td>NaN</td>\n",
       "      <td>2024</td>\n",
       "      <td>19</td>\n",
       "      <td>64733</td>\n",
       "      <td>6120489</td>\n",
       "    </tr>\n",
       "    <tr>\n",
       "      <th>917</th>\n",
       "      <td>20652430107938</td>\n",
       "      <td>Liberty Charter</td>\n",
       "      <td>1</td>\n",
       "      <td>NaN</td>\n",
       "      <td>0/0%</td>\n",
       "      <td>0.0</td>\n",
       "      <td>Met</td>\n",
       "      <td>At Liberty Charter, we firmly believe that our...</td>\n",
       "      <td>2024-06-13</td>\n",
       "      <td>2024</td>\n",
       "      <td>20</td>\n",
       "      <td>65243</td>\n",
       "      <td>107938</td>\n",
       "    </tr>\n",
       "    <tr>\n",
       "      <th>965</th>\n",
       "      <td>23656150140814</td>\n",
       "      <td>Shanél Valley Academy</td>\n",
       "      <td>1</td>\n",
       "      <td>NaN</td>\n",
       "      <td>0/0%</td>\n",
       "      <td>0.0</td>\n",
       "      <td>Met</td>\n",
       "      <td>NaN</td>\n",
       "      <td>2024-06-27</td>\n",
       "      <td>2024</td>\n",
       "      <td>23</td>\n",
       "      <td>65615</td>\n",
       "      <td>140814</td>\n",
       "    </tr>\n",
       "    <tr>\n",
       "      <th>1079</th>\n",
       "      <td>30103060134239</td>\n",
       "      <td>Epic California Academy</td>\n",
       "      <td>1</td>\n",
       "      <td>NaN</td>\n",
       "      <td>0</td>\n",
       "      <td>0.0</td>\n",
       "      <td>Met</td>\n",
       "      <td>NaN</td>\n",
       "      <td>2024-06-06</td>\n",
       "      <td>2024</td>\n",
       "      <td>30</td>\n",
       "      <td>10306</td>\n",
       "      <td>134239</td>\n",
       "    </tr>\n",
       "    <tr>\n",
       "      <th>1099</th>\n",
       "      <td>30664640106765</td>\n",
       "      <td>California Online Public Schools Southern Cali...</td>\n",
       "      <td>1</td>\n",
       "      <td>NaN</td>\n",
       "      <td>0</td>\n",
       "      <td>0.0</td>\n",
       "      <td>Met</td>\n",
       "      <td>NaN</td>\n",
       "      <td>2024-06-04</td>\n",
       "      <td>2024</td>\n",
       "      <td>30</td>\n",
       "      <td>66464</td>\n",
       "      <td>106765</td>\n",
       "    </tr>\n",
       "    <tr>\n",
       "      <th>1432</th>\n",
       "      <td>37681060137034</td>\n",
       "      <td>Altus Schools North County</td>\n",
       "      <td>1</td>\n",
       "      <td>NaN</td>\n",
       "      <td>0</td>\n",
       "      <td>0.0</td>\n",
       "      <td>Met</td>\n",
       "      <td>NaN</td>\n",
       "      <td>2024-06-26</td>\n",
       "      <td>2024</td>\n",
       "      <td>37</td>\n",
       "      <td>68106</td>\n",
       "      <td>137034</td>\n",
       "    </tr>\n",
       "    <tr>\n",
       "      <th>1494</th>\n",
       "      <td>37683383730959</td>\n",
       "      <td>Altus Schools Charter School of San Diego</td>\n",
       "      <td>1</td>\n",
       "      <td>NaN</td>\n",
       "      <td>0</td>\n",
       "      <td>0.0</td>\n",
       "      <td>Met</td>\n",
       "      <td>NaN</td>\n",
       "      <td>2024-06-26</td>\n",
       "      <td>2024</td>\n",
       "      <td>37</td>\n",
       "      <td>68338</td>\n",
       "      <td>3730959</td>\n",
       "    </tr>\n",
       "    <tr>\n",
       "      <th>1497</th>\n",
       "      <td>37683383731395</td>\n",
       "      <td>Altus Schools Audeo</td>\n",
       "      <td>1</td>\n",
       "      <td>NaN</td>\n",
       "      <td>0</td>\n",
       "      <td>0.0</td>\n",
       "      <td>Met</td>\n",
       "      <td>NaN</td>\n",
       "      <td>2024-06-26</td>\n",
       "      <td>2024</td>\n",
       "      <td>37</td>\n",
       "      <td>68338</td>\n",
       "      <td>3731395</td>\n",
       "    </tr>\n",
       "    <tr>\n",
       "      <th>1846</th>\n",
       "      <td>44754320139410</td>\n",
       "      <td>California Online Public Schools Monterey Bay</td>\n",
       "      <td>1</td>\n",
       "      <td>NaN</td>\n",
       "      <td>0</td>\n",
       "      <td>0.0</td>\n",
       "      <td>Met</td>\n",
       "      <td>NaN</td>\n",
       "      <td>2024-06-04</td>\n",
       "      <td>2024</td>\n",
       "      <td>44</td>\n",
       "      <td>75432</td>\n",
       "      <td>139410</td>\n",
       "    </tr>\n",
       "    <tr>\n",
       "      <th>2135</th>\n",
       "      <td>54718030112458</td>\n",
       "      <td>California Online Public Schools Central Valley</td>\n",
       "      <td>1</td>\n",
       "      <td>NaN</td>\n",
       "      <td>0</td>\n",
       "      <td>0.0</td>\n",
       "      <td>Met</td>\n",
       "      <td>NaN</td>\n",
       "      <td>2024-06-04</td>\n",
       "      <td>2024</td>\n",
       "      <td>54</td>\n",
       "      <td>71803</td>\n",
       "      <td>112458</td>\n",
       "    </tr>\n",
       "  </tbody>\n",
       "</table>\n",
       "</div>"
      ],
      "text/plain": [
       "             cdsCode                                                lea  \\\n",
       "476   19101990135582                                  Westbrook Academy   \n",
       "621   19647330117846                              Para Los Niños Middle   \n",
       "651   19647330122630     Para Los Niños - Evelyn Thurman Gratts Primary   \n",
       "824   19647336120489                             Para Los Niños Charter   \n",
       "917   20652430107938                                    Liberty Charter   \n",
       "965   23656150140814                              Shanél Valley Academy   \n",
       "1079  30103060134239                            Epic California Academy   \n",
       "1099  30664640106765  California Online Public Schools Southern Cali...   \n",
       "1432  37681060137034                         Altus Schools North County   \n",
       "1494  37683383730959          Altus Schools Charter School of San Diego   \n",
       "1497  37683383731395                                Altus Schools Audeo   \n",
       "1846  44754320139410      California Online Public Schools Monterey Bay   \n",
       "2135  54718030112458    California Online Public Schools Central Valley   \n",
       "\n",
       "      priorityNumber  numMisassignments numMaterials  numFacilities  \\\n",
       "476                1                NaN            0            0.0   \n",
       "621                1                NaN          NaN            NaN   \n",
       "651                1                NaN          NaN            NaN   \n",
       "824                1                NaN            0            0.0   \n",
       "917                1                NaN         0/0%            0.0   \n",
       "965                1                NaN         0/0%            0.0   \n",
       "1079               1                NaN            0            0.0   \n",
       "1099               1                NaN            0            0.0   \n",
       "1432               1                NaN            0            0.0   \n",
       "1494               1                NaN            0            0.0   \n",
       "1497               1                NaN            0            0.0   \n",
       "1846               1                NaN            0            0.0   \n",
       "2135               1                NaN            0            0.0   \n",
       "\n",
       "     countyPerformance                                     additionalInfo  \\\n",
       "476                Met  By the end of the 2023-24 school year the scho...   \n",
       "621            Not Met                                                NaN   \n",
       "651            Not Met                                                NaN   \n",
       "824            Not Met                                                NaN   \n",
       "917                Met  At Liberty Charter, we firmly believe that our...   \n",
       "965                Met                                                NaN   \n",
       "1079               Met                                                NaN   \n",
       "1099               Met                                                NaN   \n",
       "1432               Met                                                NaN   \n",
       "1494               Met                                                NaN   \n",
       "1497               Met                                                NaN   \n",
       "1846               Met                                                NaN   \n",
       "2135               Met                                                NaN   \n",
       "\n",
       "     meetingDate  year  CountyCode  DistrictCode  SchoolCode  \n",
       "476   2024-06-13  2024          19         10199      135582  \n",
       "621          NaN  2024          19         64733      117846  \n",
       "651          NaN  2024          19         64733      122630  \n",
       "824          NaN  2024          19         64733     6120489  \n",
       "917   2024-06-13  2024          20         65243      107938  \n",
       "965   2024-06-27  2024          23         65615      140814  \n",
       "1079  2024-06-06  2024          30         10306      134239  \n",
       "1099  2024-06-04  2024          30         66464      106765  \n",
       "1432  2024-06-26  2024          37         68106      137034  \n",
       "1494  2024-06-26  2024          37         68338     3730959  \n",
       "1497  2024-06-26  2024          37         68338     3731395  \n",
       "1846  2024-06-04  2024          44         75432      139410  \n",
       "2135  2024-06-04  2024          54         71803      112458  "
      ]
     },
     "execution_count": 17,
     "metadata": {},
     "output_type": "execute_result"
    }
   ],
   "source": [
    "p1[(~p1[\"lea\"].isin(school_codes[\"SchoolName\"])) & (p1[\"SchoolCode\"] != 0)]"
   ]
  },
  {
   "cell_type": "markdown",
   "id": "fcc73c0a-aed9-44c8-86e9-1dc62517a9ce",
   "metadata": {
    "jp-MarkdownHeadingCollapsed": true
   },
   "source": [
    "#### Verify if all `meetingDate`s are equivalent within schools"
   ]
  },
  {
   "cell_type": "code",
   "execution_count": 18,
   "id": "87d1b223-f937-4b18-bca1-2da4c921c518",
   "metadata": {},
   "outputs": [],
   "source": [
    "priorities = [\n",
    "    p2[[\"cdsCode\", \"meetingDate\"]],\n",
    "    p3[[\"cdsCode\", \"meetingDate\"]], \n",
    "    p6[[\"cdsCode\", \"meetingDate\"]],\n",
    "    p7[[\"cdsCode\", \"meetingDate\"]],\n",
    "    p9[[\"cdsCode\", \"meetingDate\"]],\n",
    "    p10[[\"cdsCode\", \"meetingDate\"]]\n",
    "]\n",
    "\n",
    "priority_codes = p1[[\"cdsCode\", \"meetingDate\"]]\n",
    "i = 0\n",
    "for p in priorities:\n",
    "    priority_codes = pd.merge(priority_codes, p, how=\"outer\", on=\"cdsCode\", suffixes=(f\"_x{i}\", f\"_y{i}\"))\n",
    "    i += 1"
   ]
  },
  {
   "cell_type": "code",
   "execution_count": 19,
   "id": "a6a6a269-10da-4023-bf1c-518923bfcc4b",
   "metadata": {},
   "outputs": [],
   "source": [
    "relevant_columns = priority_codes.columns.to_list()\n",
    "relevant_columns.remove(\"cdsCode\")\n",
    "def is_equal(row) -> bool:\n",
    "    for i in relevant_columns:\n",
    "        for ii in relevant_columns:\n",
    "            if pd.isna(row[i]) or pd.isna(row[ii]):\n",
    "                continue\n",
    "            if row[i] != row[ii]:\n",
    "                print(f\"{row[i]} != {row[ii]}\")\n",
    "                return False\n",
    "    return True"
   ]
  },
  {
   "cell_type": "code",
   "execution_count": 20,
   "id": "18711dee-7b2a-4584-b941-42d7787a4e50",
   "metadata": {},
   "outputs": [],
   "source": [
    "priority_codes[\"equal\"] = priority_codes.apply(lambda x: is_equal(x), axis=1)"
   ]
  },
  {
   "cell_type": "code",
   "execution_count": 21,
   "id": "b787f991-ecc7-4be0-af0a-2adce45635eb",
   "metadata": {},
   "outputs": [
    {
     "data": {
      "text/html": [
       "<div>\n",
       "<style scoped>\n",
       "    .dataframe tbody tr th:only-of-type {\n",
       "        vertical-align: middle;\n",
       "    }\n",
       "\n",
       "    .dataframe tbody tr th {\n",
       "        vertical-align: top;\n",
       "    }\n",
       "\n",
       "    .dataframe thead th {\n",
       "        text-align: right;\n",
       "    }\n",
       "</style>\n",
       "<table border=\"1\" class=\"dataframe\">\n",
       "  <thead>\n",
       "    <tr style=\"text-align: right;\">\n",
       "      <th></th>\n",
       "      <th>cdsCode</th>\n",
       "      <th>meetingDate_x0</th>\n",
       "      <th>meetingDate_y0</th>\n",
       "      <th>meetingDate_x2</th>\n",
       "      <th>meetingDate_y2</th>\n",
       "      <th>meetingDate_x4</th>\n",
       "      <th>meetingDate_y4</th>\n",
       "      <th>meetingDate</th>\n",
       "      <th>equal</th>\n",
       "    </tr>\n",
       "  </thead>\n",
       "  <tbody>\n",
       "  </tbody>\n",
       "</table>\n",
       "</div>"
      ],
      "text/plain": [
       "Empty DataFrame\n",
       "Columns: [cdsCode, meetingDate_x0, meetingDate_y0, meetingDate_x2, meetingDate_y2, meetingDate_x4, meetingDate_y4, meetingDate, equal]\n",
       "Index: []"
      ]
     },
     "execution_count": 21,
     "metadata": {},
     "output_type": "execute_result"
    }
   ],
   "source": [
    "priority_codes[priority_codes[\"equal\"] != True]"
   ]
  },
  {
   "cell_type": "markdown",
   "id": "6d208cb8-5102-4765-9a2e-5258b4fa850a",
   "metadata": {},
   "source": [
    "They are! We can use a foreign key lookup utilizing `cdsCode` in a `MeetingDates` table."
   ]
  },
  {
   "cell_type": "code",
   "execution_count": 22,
   "id": "cde62f22-0cff-4d7d-a258-979f132555cc",
   "metadata": {},
   "outputs": [],
   "source": [
    "priorities = [\n",
    "    p1[[\"cdsCode\", \"meetingDate\"]],\n",
    "    p2[[\"cdsCode\", \"meetingDate\"]],\n",
    "    p3[[\"cdsCode\", \"meetingDate\"]], \n",
    "    p6[[\"cdsCode\", \"meetingDate\"]],\n",
    "    p7[[\"cdsCode\", \"meetingDate\"]],\n",
    "    p9[[\"cdsCode\", \"meetingDate\"]],\n",
    "    p10[[\"cdsCode\", \"meetingDate\"]]\n",
    "]\n",
    "meeting_dates = pd.concat([i for i in priorities]).drop_duplicates()\n",
    "meeting_dates = meeting_dates[meeting_dates[\"cdsCode\"].notnull()]"
   ]
  },
  {
   "cell_type": "markdown",
   "id": "cc63193f-f2c4-4540-9453-0b7c30f37d39",
   "metadata": {
    "jp-MarkdownHeadingCollapsed": true
   },
   "source": [
    "#### Something to note here is that every priority table has these columns which are actually just useless."
   ]
  },
  {
   "cell_type": "code",
   "execution_count": 23,
   "id": "c238ed7d-4275-4ee8-bc8e-aa24eb5d7925",
   "metadata": {},
   "outputs": [
    {
     "name": "stdout",
     "output_type": "stream",
     "text": [
      "      priorityNumber  year\n",
      "0                  1  2024\n",
      "1                  1  2024\n",
      "2                  1  2024\n",
      "3                  1  2024\n",
      "4                  1  2024\n",
      "...              ...   ...\n",
      "2257               1  2024\n",
      "2258               1  2024\n",
      "2259               1  2024\n",
      "2260               1  2024\n",
      "2261               1  2024\n",
      "\n",
      "[2262 rows x 2 columns]\n"
     ]
    }
   ],
   "source": [
    "print(p1[[\"priorityNumber\", \"year\"]])"
   ]
  },
  {
   "cell_type": "markdown",
   "id": "f26eec8a-fb1f-4c55-a84c-814d3a3ea1de",
   "metadata": {
    "jp-MarkdownHeadingCollapsed": true
   },
   "source": [
    "#### I can't see a reason to keep both `StreetAbr` and `Street` given this; drop the abbreviated version."
   ]
  },
  {
   "cell_type": "code",
   "execution_count": 24,
   "id": "b758dae0-00e1-43ec-acdf-5779ea3fd107",
   "metadata": {},
   "outputs": [
    {
     "name": "stdout",
     "output_type": "stream",
     "text": [
      "                           StreetAbr                            Street\n",
      "0               313 West Winton Ave.            313 West Winton Avenue\n",
      "1      39899 Balentine Dr., Ste. 335  39899 Balentine Drive, Suite 335\n",
      "2                   1515 Webster St.               1515 Webster Street\n",
      "3                2125 Jefferson Ave.             2125 Jefferson Avenue\n",
      "4           2111 International Blvd.      2111 International Boulevard\n",
      "...                              ...                               ...\n",
      "18351                 456 Beale Hwy.                 456 Beale Highway\n",
      "18352                 123 Beale Hwy.                 123 Beale Highway\n",
      "18353                 111 Hooper St.                 111 Hooper Street\n",
      "18355             711 West Olive St.             711 West Olive Street\n",
      "18357             1010 Wheatland Rd.               1010 Wheatland Road\n",
      "\n",
      "[13994 rows x 2 columns]\n",
      "                       MailStreetAbr                        MailStreet\n",
      "0               313 West Winton Ave.            313 West Winton Avenue\n",
      "1      39899 Balentine Dr., Ste. 335  39899 Balentine Drive, Suite 335\n",
      "2                   1515 Webster St.               1515 Webster Street\n",
      "3           1001 22nd Ave., Ste. 100       1001 22nd Avenue, Suite 100\n",
      "4           2111 International Blvd.      2111 International Boulevard\n",
      "...                              ...                               ...\n",
      "18351                 456 Beale Hwy.                 456 Beale Highway\n",
      "18352                 123 Beale Hwy.                 123 Beale Highway\n",
      "18353                 111 Hooper St.                 111 Hooper Street\n",
      "18355                     PO Box 818                        PO Box 818\n",
      "18357             1010 Wheatland Rd.               1010 Wheatland Road\n",
      "\n",
      "[12848 rows x 2 columns]\n"
     ]
    }
   ],
   "source": [
    "print(pub_schools[[\"StreetAbr\", \"Street\"]].drop_duplicates())\n",
    "print(pub_schools[[\"MailStreetAbr\", \"MailStreet\"]].drop_duplicates())"
   ]
  },
  {
   "cell_type": "markdown",
   "id": "dd5dd7fa-053a-4602-b7c2-f56fc4821b61",
   "metadata": {},
   "source": [
    "#### There are no non-null `numMisassignments`, as such, we can drop them!"
   ]
  },
  {
   "cell_type": "code",
   "execution_count": 25,
   "id": "95a7974d-a9cd-4977-966c-f9fe6ec4536c",
   "metadata": {},
   "outputs": [
    {
     "data": {
      "text/html": [
       "<div>\n",
       "<style scoped>\n",
       "    .dataframe tbody tr th:only-of-type {\n",
       "        vertical-align: middle;\n",
       "    }\n",
       "\n",
       "    .dataframe tbody tr th {\n",
       "        vertical-align: top;\n",
       "    }\n",
       "\n",
       "    .dataframe thead th {\n",
       "        text-align: right;\n",
       "    }\n",
       "</style>\n",
       "<table border=\"1\" class=\"dataframe\">\n",
       "  <thead>\n",
       "    <tr style=\"text-align: right;\">\n",
       "      <th></th>\n",
       "      <th>cdsCode</th>\n",
       "      <th>lea</th>\n",
       "      <th>priorityNumber</th>\n",
       "      <th>numMisassignments</th>\n",
       "      <th>numMaterials</th>\n",
       "      <th>numFacilities</th>\n",
       "      <th>countyPerformance</th>\n",
       "      <th>additionalInfo</th>\n",
       "      <th>meetingDate</th>\n",
       "      <th>year</th>\n",
       "      <th>CountyCode</th>\n",
       "      <th>DistrictCode</th>\n",
       "      <th>SchoolCode</th>\n",
       "    </tr>\n",
       "  </thead>\n",
       "  <tbody>\n",
       "  </tbody>\n",
       "</table>\n",
       "</div>"
      ],
      "text/plain": [
       "Empty DataFrame\n",
       "Columns: [cdsCode, lea, priorityNumber, numMisassignments, numMaterials, numFacilities, countyPerformance, additionalInfo, meetingDate, year, CountyCode, DistrictCode, SchoolCode]\n",
       "Index: []"
      ]
     },
     "execution_count": 25,
     "metadata": {},
     "output_type": "execute_result"
    }
   ],
   "source": [
    "p1[p1[\"numMisassignments\"].notnull()]"
   ]
  },
  {
   "cell_type": "markdown",
   "id": "c47e8e42-00eb-470a-b13c-916a2de39683",
   "metadata": {},
   "source": [
    "## Upload to database"
   ]
  },
  {
   "cell_type": "code",
   "execution_count": 26,
   "id": "458a6247-479c-4c60-bcb6-5118e7e3cea9",
   "metadata": {},
   "outputs": [],
   "source": [
    "con = sqlite3.connect(DATABASE)\n",
    "cur = con.cursor()"
   ]
  },
  {
   "cell_type": "markdown",
   "id": "8c73194d-fcd8-4059-a8e6-60f9f8b9fccb",
   "metadata": {},
   "source": [
    "#### Drop all columns that are no longer necessary."
   ]
  },
  {
   "cell_type": "code",
   "execution_count": 28,
   "id": "d1d3baa8-6b55-4d0f-b28e-da5605399da4",
   "metadata": {},
   "outputs": [],
   "source": [
    "p_1 = p1[p1.columns.difference([\"priorityNumber\", \"numMisassignments\", \"meetingDate\", \"year\"])]\n",
    "p_2 = p2[p2.columns.difference([\"priorityNumber\", \"meetingDate\", \"year\"])]\n",
    "p_3 = p3[p3.columns.difference([\"priorityNumber\", \"meetingDate\", \"year\"])]\n",
    "p_6 = p6[p6.columns.difference([\"priorityNumber\", \"summary\", \"meetingDate\", \"year\"])]\n",
    "p_7 = p7[p7.columns.difference([\"priorityNumber\", \"meetingDate\", \"year\"])]\n",
    "p_9 = p9[p9.columns.difference([\"priorityNumber\", \"meetingDate\", \"year\"])]\n",
    "p_10 = p10[p10.columns.difference([\"priorityNumber\", \"meetingDate\", \"year\"])]\n",
    "\n",
    "cde_dropped = cde[cde.columns.difference([\"CountyName\", \"DistrictName\", \"SchoolName\"])]\n",
    "pub_schools_dropped = pub_schools[pub_schools.columns.difference([\n",
    "    \"County\", \"District\", \"School\", \"StreetAbr\", \"State\", \"MailStreetAbr\", \"MailState\"\n",
    "])]"
   ]
  },
  {
   "cell_type": "code",
   "execution_count": 29,
   "id": "ecb96636-6a45-4e4c-ac52-8bb4127fce65",
   "metadata": {},
   "outputs": [],
   "source": [
    "if DB_INSERT: # Don't need to run this again!\n",
    "    district_codes.to_sql(\"Districts\", con, index=False, if_exists=\"append\")\n",
    "    school_codes.to_sql(\"Schools\", con, index=False, if_exists=\"append\")\n",
    "    county_codes.to_sql(\"Counties\", con, index=False, if_exists=\"append\")\n",
    "    meeting_dates.to_sql(\"MeetingDates\", con, index=False, if_exists=\"append\")"
   ]
  },
  {
   "cell_type": "code",
   "execution_count": 30,
   "id": "c45d99f7-2392-44b0-a81c-ddfff6f8ce10",
   "metadata": {},
   "outputs": [],
   "source": [
    "if DB_INSERT:\n",
    "    p_1.to_sql(\"PriorityOne\", con, index=False, if_exists=\"append\")\n",
    "    p_2.to_sql(\"PriorityTwo\", con, index=False, if_exists=\"append\")\n",
    "    p_3.to_sql(\"PriorityThree\", con, index=False, if_exists=\"append\")\n",
    "    p_6.to_sql(\"PrioritySix\", con, index=False, if_exists=\"append\")\n",
    "    p_7.to_sql(\"PrioritySeven\", con, index=False, if_exists=\"append\")\n",
    "    p_9.to_sql(\"PriorityNine\", con, index=False, if_exists=\"append\")\n",
    "    p_10.to_sql(\"PriorityTen\", con, index=False, if_exists=\"append\")"
   ]
  },
  {
   "cell_type": "code",
   "execution_count": 31,
   "id": "97a62851-be3c-4f80-b7db-67344dcb3248",
   "metadata": {},
   "outputs": [],
   "source": [
    "if DB_INSERT:\n",
    "    cde_dropped.to_sql(\"CensusDay\", con, index=False, if_exists=\"append\")\n",
    "    pub_schools_dropped.to_sql(\"PublicSchools\", con, index=False, if_exists=\"append\")"
   ]
  },
  {
   "cell_type": "code",
   "execution_count": 32,
   "id": "7644bf61-959b-4978-a15d-ff2bb152b2d3",
   "metadata": {},
   "outputs": [],
   "source": [
    "con.close()"
   ]
  }
 ],
 "metadata": {
  "kernelspec": {
   "display_name": "Python 3 (ipykernel)",
   "language": "python",
   "name": "python3"
  },
  "language_info": {
   "codemirror_mode": {
    "name": "ipython",
    "version": 3
   },
   "file_extension": ".py",
   "mimetype": "text/x-python",
   "name": "python",
   "nbconvert_exporter": "python",
   "pygments_lexer": "ipython3",
   "version": "3.12.9"
  }
 },
 "nbformat": 4,
 "nbformat_minor": 5
}
