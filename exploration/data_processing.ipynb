{
 "cells": [
  {
   "cell_type": "code",
   "execution_count": 1,
   "id": "36865e9d-7389-492f-b254-5a89cc2769fe",
   "metadata": {},
   "outputs": [],
   "source": [
    "import sqlite3\n",
    "\n",
    "import pandas as pd\n",
    "from pathlib import Path"
   ]
  },
  {
   "cell_type": "markdown",
   "id": "d0b29a7e-b0d7-4907-bbd7-710d159ba409",
   "metadata": {},
   "source": [
    "## Constants"
   ]
  },
  {
   "cell_type": "code",
   "execution_count": 2,
   "id": "a309b7e5-4319-42fa-b1e3-3c5e214a7ff0",
   "metadata": {},
   "outputs": [],
   "source": [
    "__file__ = %pwd\n",
    "DATA = Path(__file__).parent / \"data\"\n",
    "PRIORITIES = DATA / \"Priorities\"\n",
    "DATABASE = DATA / \"databases\" / \"exploration.db\"\n",
    "\n",
    "con = sqlite3.connect(DATABASE)\n",
    "cur = con.cursor()"
   ]
  },
  {
   "cell_type": "markdown",
   "id": "c47e8e42-00eb-470a-b13c-916a2de39683",
   "metadata": {},
   "source": [
    "## Upload to database"
   ]
  },
  {
   "cell_type": "code",
   "execution_count": 3,
   "id": "77f5a107-11fc-4b29-b0d7-9acbc9ffa12b",
   "metadata": {},
   "outputs": [],
   "source": [
    "pub_schools_columns = [\n",
    "    \"CDSCode\", \"NCESDist\", \"NCESSchool\", \"StatusType\",\n",
    "    \"County\", \"District\", \"School\", \"Street\", \"StreetAbr\",\n",
    "    \"City\", \"Zip\", \"State\", \"MailStreet\", \"MailStreetAbr\",\n",
    "    \"MailCity\", \"MailZip\", \"MailState\", \"Phone\", \"PhoneExt\",\n",
    "    \"FaxNumber\", \"Website\", \"OpenDate\", \"ClosedDate\", \"Charter\",\n",
    "    \"CharterNum\", \"FundingType\", \"DOC\", \"DOCType\", \"SOC\",\n",
    "    \"SOCType\", \"EdOpsCode\", \"EdOpsName\", \"EILCode\", \"EILName\",\n",
    "    \"GSoffered\", \"GSserved\", \"Virtual\", \"Magnet\", \"YearRound\",\n",
    "    \"FederalDFCDistrictID\", \"Latitude\", \"Longitude\", \"AdmFName\",\n",
    "    \"AdmLName\", \"LastUpDate\", \"Multilingual\"\n",
    "]"
   ]
  },
  {
   "cell_type": "code",
   "execution_count": 4,
   "id": "e1f9d073-10bc-40e1-8996-518ac41489c5",
   "metadata": {},
   "outputs": [],
   "source": [
    "p1 = pd.read_excel(PRIORITIES / \"Pr12024.xlsx\")\n",
    "p2 = pd.read_excel(PRIORITIES / \"Pr22024.xlsx\")\n",
    "p3 = pd.read_excel(PRIORITIES / \"Pr32024.xlsx\")\n",
    "p6 = pd.read_excel(PRIORITIES / \"Pr62024.xlsx\")\n",
    "p7 = pd.read_excel(PRIORITIES / \"Pr72024.xlsx\")\n",
    "p9 = pd.read_excel(PRIORITIES / \"Pr92024.xlsx\")\n",
    "p10 = pd.read_excel(PRIORITIES / \"Pr102024.xlsx\")\n",
    "pub_schools = pd.read_excel(DATA / \"pubschls.xlsx\", names=pub_schools_columns, skiprows=5)[:-1] # So many junk rows in this dataset\n",
    "cde = pd.read_csv(DATA / \"cdenroll2324-v2.txt\", sep=\"\\t\")"
   ]
  },
  {
   "cell_type": "markdown",
   "id": "a65a6a4d-7413-423c-a001-e5b07fa4c28d",
   "metadata": {},
   "source": [
    "#### Created tables with primary key ids to act as a foreign key relation for other tables to map to County, District, and School name."
   ]
  },
  {
   "cell_type": "code",
   "execution_count": 5,
   "id": "ecb96636-6a45-4e4c-ac52-8bb4127fce65",
   "metadata": {},
   "outputs": [],
   "source": [
    "if False: # Don't need to run this again!\n",
    "    county_codes = cde[[\"CountyCode\", \"CountyName\"]].drop_duplicates()\n",
    "    county_codes.columns = [\"county_id\", \"county_name\"] # Not a fan of PascalCase for column-names\n",
    "    county_codes.to_sql(\"Counties\", con, index=False, if_exists=\"append\")"
   ]
  },
  {
   "cell_type": "code",
   "execution_count": 6,
   "id": "e9f7a0a2-b8b0-4a0c-92b1-e63bd638c1b3",
   "metadata": {},
   "outputs": [],
   "source": [
    "if False:\n",
    "    district_codes = cde[[\"DistrictCode\", \"DistrictName\"]].drop_duplicates()\n",
    "    district_codes.columns = [\"district_id\", \"district_name\"]\n",
    "    district_codes.to_sql(\"Districts\", con, index=False, if_exists=\"append\")"
   ]
  },
  {
   "cell_type": "code",
   "execution_count": 7,
   "id": "abf8e59a-21d5-4866-b516-71fd18071626",
   "metadata": {},
   "outputs": [],
   "source": [
    "if False:\n",
    "    school_codes = cde[[\"SchoolCode\", \"SchoolName\"]].drop_duplicates()\n",
    "    school_codes_unique = school_codes[school_codes[\"SchoolCode\"].notnull()]\n",
    "    school_codes_unique.columns = [\"school_id\", \"school_name\"]\n",
    "    school_codes_unique.to_sql(\"Schools\", con, index=False, if_exists=\"append\")"
   ]
  },
  {
   "cell_type": "markdown",
   "id": "17a1b6b0-33a9-4ab7-900c-ca2e370d872e",
   "metadata": {},
   "source": [
    "All datasets besides the `cdenroll2324-v2.txt` dataset use an amalgamated `CDSCode` rather than independent `CountyID`, etc. columns. As such, we should drop the `CDSCode` column in favor of easier to work with columns that can then be used as foreign keys in the `Counties`, `Districts`, and `Schools` tables. As such, we will parse out the relevant values before placing the datasets in their respective tables."
   ]
  },
  {
   "cell_type": "code",
   "execution_count": 8,
   "id": "16552d48-38c7-4c7f-8d9c-abef945f5259",
   "metadata": {},
   "outputs": [],
   "source": [
    "def get_countyCode(cds_code: int) -> int:\n",
    "    county_digits = 1e12\n",
    "    return int(cds_code / county_digits)\n",
    "\n",
    "def get_districtCode(cds_code: int) -> int:\n",
    "    district_digits = 1e7\n",
    "    county_digits = 1e12\n",
    "    return int((cds_code % county_digits) / district_digits)\n",
    "\n",
    "def get_schoolCode(cds_code: int) -> int:\n",
    "    district_digits = 1e7\n",
    "    return int(cds_code % district_digits)"
   ]
  },
  {
   "cell_type": "code",
   "execution_count": 9,
   "id": "91e840bb-da8b-4cc8-89ba-f4135cc0a48e",
   "metadata": {},
   "outputs": [],
   "source": [
    "# pub_schools.CDSCode.apply(lambda x: print(f\"{int(x)} -> {get_schoolCode(int(x))}\"))"
   ]
  },
  {
   "cell_type": "markdown",
   "id": "5847720b-6d1e-4661-a613-69a8e5363870",
   "metadata": {},
   "source": [
    "### **NOTE(josh): It seems that there are some Schools not accounted for in the `Schools` table (e.g., FAME Public Charter doesn't exist in the table!)**"
   ]
  },
  {
   "cell_type": "code",
   "execution_count": 10,
   "id": "c4f8f21d-0b85-44b7-ac34-18ab663a4b2c",
   "metadata": {},
   "outputs": [
    {
     "data": {
      "text/html": [
       "<div>\n",
       "<style scoped>\n",
       "    .dataframe tbody tr th:only-of-type {\n",
       "        vertical-align: middle;\n",
       "    }\n",
       "\n",
       "    .dataframe tbody tr th {\n",
       "        vertical-align: top;\n",
       "    }\n",
       "\n",
       "    .dataframe thead th {\n",
       "        text-align: right;\n",
       "    }\n",
       "</style>\n",
       "<table border=\"1\" class=\"dataframe\">\n",
       "  <thead>\n",
       "    <tr style=\"text-align: right;\">\n",
       "      <th></th>\n",
       "      <th>CDSCode</th>\n",
       "      <th>School</th>\n",
       "    </tr>\n",
       "  </thead>\n",
       "  <tbody>\n",
       "    <tr>\n",
       "      <th>0</th>\n",
       "      <td>01100170000000</td>\n",
       "      <td>No Data</td>\n",
       "    </tr>\n",
       "    <tr>\n",
       "      <th>1</th>\n",
       "      <td>01100170109835</td>\n",
       "      <td>FAME Public Charter</td>\n",
       "    </tr>\n",
       "    <tr>\n",
       "      <th>2</th>\n",
       "      <td>01100170112607</td>\n",
       "      <td>Envision Academy for Arts &amp; Technology</td>\n",
       "    </tr>\n",
       "    <tr>\n",
       "      <th>3</th>\n",
       "      <td>01100170118489</td>\n",
       "      <td>Aspire California College Preparatory Academy</td>\n",
       "    </tr>\n",
       "    <tr>\n",
       "      <th>4</th>\n",
       "      <td>01100170123968</td>\n",
       "      <td>Community School for Creative Education</td>\n",
       "    </tr>\n",
       "    <tr>\n",
       "      <th>...</th>\n",
       "      <td>...</td>\n",
       "      <td>...</td>\n",
       "    </tr>\n",
       "    <tr>\n",
       "      <th>18359</th>\n",
       "      <td>58727690133751</td>\n",
       "      <td>Edward P. Duplex</td>\n",
       "    </tr>\n",
       "    <tr>\n",
       "      <th>18360</th>\n",
       "      <td>58727695830039</td>\n",
       "      <td>Wheatland Continuation</td>\n",
       "    </tr>\n",
       "    <tr>\n",
       "      <th>18361</th>\n",
       "      <td>58727695830070</td>\n",
       "      <td>Wheatland Alternative Education</td>\n",
       "    </tr>\n",
       "    <tr>\n",
       "      <th>18362</th>\n",
       "      <td>58727695830120</td>\n",
       "      <td>Academy for Career Education Charter</td>\n",
       "    </tr>\n",
       "    <tr>\n",
       "      <th>18363</th>\n",
       "      <td>58727695838305</td>\n",
       "      <td>Wheatland Union High</td>\n",
       "    </tr>\n",
       "  </tbody>\n",
       "</table>\n",
       "<p>18364 rows × 2 columns</p>\n",
       "</div>"
      ],
      "text/plain": [
       "              CDSCode                                         School\n",
       "0      01100170000000                                        No Data\n",
       "1      01100170109835                            FAME Public Charter\n",
       "2      01100170112607         Envision Academy for Arts & Technology\n",
       "3      01100170118489  Aspire California College Preparatory Academy\n",
       "4      01100170123968        Community School for Creative Education\n",
       "...               ...                                            ...\n",
       "18359  58727690133751                               Edward P. Duplex\n",
       "18360  58727695830039                         Wheatland Continuation\n",
       "18361  58727695830070                Wheatland Alternative Education\n",
       "18362  58727695830120           Academy for Career Education Charter\n",
       "18363  58727695838305                           Wheatland Union High\n",
       "\n",
       "[18364 rows x 2 columns]"
      ]
     },
     "execution_count": 10,
     "metadata": {},
     "output_type": "execute_result"
    }
   ],
   "source": [
    "pub_schools[[\"CDSCode\", \"School\"]]"
   ]
  },
  {
   "cell_type": "markdown",
   "id": "cc63193f-f2c4-4540-9453-0b7c30f37d39",
   "metadata": {},
   "source": [
    "#### Something to note here is that every priority table has these columns which are actually just useless. **Remember to drop them!**"
   ]
  },
  {
   "cell_type": "code",
   "execution_count": 11,
   "id": "c238ed7d-4275-4ee8-bc8e-aa24eb5d7925",
   "metadata": {},
   "outputs": [
    {
     "name": "stdout",
     "output_type": "stream",
     "text": [
      "      priorityNumber  year\n",
      "0                  1  2024\n",
      "1                  1  2024\n",
      "2                  1  2024\n",
      "3                  1  2024\n",
      "4                  1  2024\n",
      "...              ...   ...\n",
      "2257               1  2024\n",
      "2258               1  2024\n",
      "2259               1  2024\n",
      "2260               1  2024\n",
      "2261               1  2024\n",
      "\n",
      "[2262 rows x 2 columns]\n"
     ]
    }
   ],
   "source": [
    "print(p1[[\"priorityNumber\", \"year\"]])"
   ]
  },
  {
   "cell_type": "code",
   "execution_count": 12,
   "id": "7644bf61-959b-4978-a15d-ff2bb152b2d3",
   "metadata": {},
   "outputs": [],
   "source": [
    "con.close()"
   ]
  }
 ],
 "metadata": {
  "kernelspec": {
   "display_name": "Python 3 (ipykernel)",
   "language": "python",
   "name": "python3"
  },
  "language_info": {
   "codemirror_mode": {
    "name": "ipython",
    "version": 3
   },
   "file_extension": ".py",
   "mimetype": "text/x-python",
   "name": "python",
   "nbconvert_exporter": "python",
   "pygments_lexer": "ipython3",
   "version": "3.12.9"
  }
 },
 "nbformat": 4,
 "nbformat_minor": 5
}
