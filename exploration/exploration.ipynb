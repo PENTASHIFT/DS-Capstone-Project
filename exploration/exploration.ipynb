{
 "cells": [
  {
   "cell_type": "code",
   "execution_count": 1,
   "id": "c555e11d-e67e-4f4b-89cb-1eb29fdb44d8",
   "metadata": {},
   "outputs": [],
   "source": [
    "import numpy as np\n",
    "import pandas as pd\n",
    "\n",
    "from pathlib import Path"
   ]
  },
  {
   "cell_type": "code",
   "execution_count": 2,
   "id": "decf984c-6722-4afa-9326-32c3dc60b7fc",
   "metadata": {},
   "outputs": [],
   "source": [
    "__file__ = %pwd\n",
    "DATA = Path(__file__).parent / \"data\"\n",
    "PRIORITIES = DATA / \"Priorities\""
   ]
  }
 ],
 "metadata": {
  "kernelspec": {
   "display_name": "Python 3 (ipykernel)",
   "language": "python",
   "name": "python3"
  },
  "language_info": {
   "codemirror_mode": {
    "name": "ipython",
    "version": 3
   },
   "file_extension": ".py",
   "mimetype": "text/x-python",
   "name": "python",
   "nbconvert_exporter": "python",
   "pygments_lexer": "ipython3",
   "version": "3.12.9"
  }
 },
 "nbformat": 4,
 "nbformat_minor": 5
}
